{
 "cells": [
  {
   "cell_type": "code",
   "execution_count": 456,
   "metadata": {
    "collapsed": true
   },
   "outputs": [],
   "source": [
    "import pandas as pd\n",
    "import numpy as np\n",
    "import os\n",
    "from sklearn.metrics import confusion_matrix\n",
    "from sklearn.model_selection import train_test_split\n",
    "import matplotlib.pyplot as plt\n",
    "from matplotlib import colors as mcolors\n",
    "import seaborn as sns\n",
    "from sklearn.neural_network import MLPClassifier\n",
    "from sklearn.preprocessing import StandardScaler\n",
    "from operator import itemgetter\n",
    "import math\n",
    "\n",
    "os.chdir(\"/home/william/Desktop\")"
   ]
  },
  {
   "cell_type": "code",
   "execution_count": 457,
   "metadata": {
    "pycharm": {
     "name": "#%%\n"
    }
   },
   "outputs": [],
   "source": [
    "class Analisis_Predictivo:\n",
    "\n",
    "    def __init__(self, predecir=None, predictoras = [],\n",
    "                 modelo = None,train_size = None,random_state = None,\n",
    "                 xtrain=None, ytrain=None, xtest=None, ytest=None,datos = None):\n",
    "        '''\n",
    "        datos: Datos completos y listos para construir un modelo\n",
    "\n",
    "        modelo: Instancia de una Clase de un método de clasificación(KNN,Árboles,SVM,etc).\n",
    "        Si no especifica un modelo no podrá utilizar el método fit_n_review()\n",
    "\n",
    "        predecir: Nombre de la variable a predecir\n",
    "\n",
    "        predictoras: Lista de los nombres de las variables predictoras.\n",
    "        Si vacío entonces utiliza todas las variables presentes excepto la variable a predecir.\n",
    "\n",
    "        train_size: Proporción de la tabla de entrenamiento respecto a la original.\n",
    "\n",
    "        random_state: Semilla aleatoria para la división de datos(training-testing).\n",
    "        '''\n",
    "        self.datos = datos\n",
    "        self.predecir = predecir\n",
    "        self.predictoras = predictoras\n",
    "        self.modelo = modelo\n",
    "        self.random_state = random_state\n",
    "        self.X_train = xtrain\n",
    "        self.X_test = xtest\n",
    "        self.y_train = ytrain\n",
    "        self.y_test = ytest\n",
    "        if modelo != None and train_size != None:\n",
    "            self.train_size = train_size\n",
    "            self._training_testing()\n",
    "\n",
    "\n",
    "    def _training_testing(self):\n",
    "        if len(self.predictoras) == 0:\n",
    "            X = self.datos.drop(columns=[self.predecir])\n",
    "        else:\n",
    "            X = self.datos[self.predictoras]\n",
    "\n",
    "        y = self.datos[self.predecir].values\n",
    "\n",
    "        train_test = train_test_split(X, y, train_size=self.train_size,\n",
    "                                      random_state=self.random_state)\n",
    "        self.X_train, self.X_test,self.y_train, self.y_test = train_test\n",
    "\n",
    "\n",
    "    def fit_predict(self):\n",
    "        if self.modelo != None:\n",
    "            self.modelo.fit(self.X_train,self.y_train)\n",
    "            return self.modelo.predict(self.X_test)\n",
    "\n",
    "    def fit_predict_resultados(self, imprimir = True, inyectado=None, custom=False):\n",
    "        if(self.modelo != None):\n",
    "            if custom == False:\n",
    "                y = self.datos[self.predecir].values\n",
    "            else:\n",
    "                y= inyectado\n",
    "            prediccion = self.fit_predict()\n",
    "            MC = confusion_matrix(self.y_test, prediccion)\n",
    "            indices = self.indices_general(MC,list(np.unique(y)))\n",
    "            if imprimir == True:\n",
    "                for k in indices:\n",
    "                    print(\"\\n%s:\\n%s\"%(k,str(indices[k])))\n",
    "\n",
    "            return indices\n",
    "\n",
    "    def indices_general(self,MC, nombres = None):\n",
    "        \"Método para calcular los índices de calidad de la predicción\"\n",
    "        precision_global = np.sum(MC.diagonal()) / np.sum(MC)\n",
    "        error_global = 1 - precision_global\n",
    "        precision_categoria  = pd.DataFrame(MC.diagonal()/np.sum(MC,axis = 1)).T\n",
    "        if nombres!=None:\n",
    "            precision_categoria.columns = nombres\n",
    "        return {\"Matriz de Confusión\":MC,\n",
    "                \"Precisión Global\":precision_global,\n",
    "                \"Error Global\":error_global,\n",
    "                \"Precisión por categoría\":precision_categoria}\n",
    "\n",
    "    def distribucion_variable_predecir(self):\n",
    "        \"Método para graficar la distribución de la variable a predecir\"\n",
    "        variable_predict = self.predecir\n",
    "        data = self.datos\n",
    "        colors = list(dict(**mcolors.CSS4_COLORS))\n",
    "        df = pd.crosstab(index=data[variable_predict],columns=\"valor\") / data[variable_predict].count()\n",
    "        fig = plt.figure(figsize=(10,9))\n",
    "        g = fig.add_subplot(111)\n",
    "        countv = 0\n",
    "        titulo = \"Distribución de la variable %s\" % variable_predict\n",
    "        for i in range(df.shape[0]):\n",
    "            g.barh(1,df.iloc[i],left = countv, align='center',color=colors[11+i],label= df.iloc[i].name)\n",
    "            countv = countv + df.iloc[i]\n",
    "        vals = g.get_xticks()\n",
    "        g.set_xlim(0,1)\n",
    "        g.set_yticklabels(\"\")\n",
    "        g.set_title(titulo)\n",
    "        g.set_ylabel(variable_predict)\n",
    "        g.set_xticklabels(['{:.0%}'.format(x) for x in vals])\n",
    "        countv = 0\n",
    "        for v in df.iloc[:,0]:\n",
    "            g.text(np.mean([countv,countv+v]) - 0.03, 1 , '{:.1%}'.format(v), color='black', fontweight='bold')\n",
    "            countv = countv + v\n",
    "        g.legend(loc='upper center', bbox_to_anchor=(1.08, 1), shadow=True, ncol=1)\n",
    "\n",
    "    def poder_predictivo_categorica(self, var:str):\n",
    "        \"Método para ver la distribución de una variable categórica respecto a la predecir\"\n",
    "        data = self.datos\n",
    "        variable_predict = self.predecir\n",
    "        df = pd.crosstab(index= data[var],columns=data[variable_predict])\n",
    "        df = df.div(df.sum(axis=1),axis=0)\n",
    "        titulo = \"Distribución de la variable %s según la variable %s\" % (var,variable_predict)\n",
    "        g = df.plot(kind='barh',stacked=True,legend = True, figsize = (10,9), \\\n",
    "                    xlim = (0,1),title = titulo, width = 0.8)\n",
    "        vals = g.get_xticks()\n",
    "        g.set_xticklabels(['{:.0%}'.format(x) for x in vals])\n",
    "        g.legend(loc='upper center', bbox_to_anchor=(1.08, 1), shadow=True, ncol=1)\n",
    "        for bars in g.containers:\n",
    "            plt.setp(bars, width=.9)\n",
    "        for i in range(df.shape[0]):\n",
    "            countv = 0\n",
    "            for v in df.iloc[i]:\n",
    "                g.text(np.mean([countv,countv+v]) - 0.03, i , '{:.1%}'.format(v), color='black', fontweight='bold')\n",
    "                countv = countv + v\n",
    "\n",
    "\n",
    "    def poder_predictivo_numerica(self,var:str):\n",
    "        \"Función para ver la distribución de una variable numérica respecto a la predecir\"\n",
    "        sns.FacetGrid(self.datos, hue=self.predecir, height=6).map(sns.kdeplot, var, shade=True).add_legend()\n"
   ]
  },
  {
   "cell_type": "code",
   "execution_count": 458,
   "metadata": {
    "pycharm": {
     "name": "#%%\n"
    }
   },
   "outputs": [],
   "source": [
    "def transformToDataFrame(modelo):\n",
    "    resultados = modelo.fit_predict_resultados(imprimir=True)\n",
    "    precisionGlobal = pd.DataFrame({\"Precisión Global\" : [resultados['Precisión Global']]})\n",
    "    errorGlobal = pd.DataFrame({\"Error Global\" : [resultados['Error Global']]})\n",
    "    precisonCategoria = resultados['Precisión por categoría']\n",
    "    finalDataFrame = precisionGlobal.join(errorGlobal).join(precisonCategoria)\n",
    "    return finalDataFrame"
   ]
  },
  {
   "cell_type": "code",
   "execution_count": 459,
   "metadata": {
    "pycharm": {
     "name": "#%%\n"
    }
   },
   "outputs": [],
   "source": [
    "potabilidad = pd.read_csv(\"potabilidad_V2.csv\")\n",
    "potabilidad = potabilidad.iloc[:,1:]\n",
    "potabilidad[\"Potability\"] = potabilidad[\"Potability\"].astype('category')"
   ]
  },
  {
   "cell_type": "markdown",
   "metadata": {
    "pycharm": {
     "name": "#%% md\n"
    }
   },
   "source": [
    "El primer modelo sin estandarizar los datos  muestra unos resultados bastante malos, por que como podemos ver en el dataframe de abajo, aunque tiene una precision global interesante, la verdadera metrica, se ve en el \"NO\" y el \"SI\", y podemos ver que el valor de si es muy bajo"
   ]
  },
  {
   "cell_type": "code",
   "execution_count": 460,
   "metadata": {
    "pycharm": {
     "name": "#%%\n"
    }
   },
   "outputs": [
    {
     "name": "stdout",
     "output_type": "stream",
     "text": [
      "\n",
      "Matriz de Confusión:\n",
      "[[257  52]\n",
      " [161  33]]\n",
      "\n",
      "Precisión Global:\n",
      "0.5765407554671969\n",
      "\n",
      "Error Global:\n",
      "0.42345924453280315\n",
      "\n",
      "Precisión por categoría:\n",
      "         No        Si\n",
      "0  0.831715  0.170103\n"
     ]
    },
    {
     "data": {
      "text/html": [
       "<div>\n",
       "<style scoped>\n",
       "    .dataframe tbody tr th:only-of-type {\n",
       "        vertical-align: middle;\n",
       "    }\n",
       "\n",
       "    .dataframe tbody tr th {\n",
       "        vertical-align: top;\n",
       "    }\n",
       "\n",
       "    .dataframe thead th {\n",
       "        text-align: right;\n",
       "    }\n",
       "</style>\n",
       "<table border=\"1\" class=\"dataframe\">\n",
       "  <thead>\n",
       "    <tr style=\"text-align: right;\">\n",
       "      <th></th>\n",
       "      <th>Precisión Global</th>\n",
       "      <th>Error Global</th>\n",
       "      <th>No</th>\n",
       "      <th>Si</th>\n",
       "    </tr>\n",
       "  </thead>\n",
       "  <tbody>\n",
       "    <tr>\n",
       "      <th>0</th>\n",
       "      <td>0.576541</td>\n",
       "      <td>0.423459</td>\n",
       "      <td>0.831715</td>\n",
       "      <td>0.170103</td>\n",
       "    </tr>\n",
       "  </tbody>\n",
       "</table>\n",
       "</div>"
      ],
      "text/plain": [
       "   Precisión Global  Error Global        No        Si\n",
       "0          0.576541      0.423459  0.831715  0.170103"
      ]
     },
     "execution_count": 460,
     "metadata": {},
     "output_type": "execute_result"
    }
   ],
   "source": [
    "modelo = MLPClassifier(hidden_layer_sizes= (6,) , activation= \"identity\", solver=\"adam\", random_state=0)\n",
    "analisisModelo1 = Analisis_Predictivo(datos=potabilidad,predecir=\"Potability\",modelo=modelo,\n",
    "                                       train_size= 0.75, random_state=0)\n",
    "transformToDataFrame(analisisModelo1)"
   ]
  },
  {
   "cell_type": "markdown",
   "metadata": {},
   "source": [
    "Al igual que el primer modelo sin estandarizar los datos muestra unos resultados pesimos, el segundo modelo muestra unos resultados aun peores que el anterior, aunque parece que predice bien el \"no\", esto no es cierto por que al ver el valor del \"SI\",  podemos que lo que sucede es que categoriza casi todo como \"NO\", entonces por eso tiene ese valor tan alto"
   ]
  },
  {
   "cell_type": "code",
   "execution_count": 461,
   "metadata": {
    "pycharm": {
     "name": "#%%\n"
    }
   },
   "outputs": [
    {
     "name": "stdout",
     "output_type": "stream",
     "text": [
      "\n",
      "Matriz de Confusión:\n",
      "[[309   0]\n",
      " [192   2]]\n",
      "\n",
      "Precisión Global:\n",
      "0.6182902584493042\n",
      "\n",
      "Error Global:\n",
      "0.3817097415506958\n",
      "\n",
      "Precisión por categoría:\n",
      "    No        Si\n",
      "0  1.0  0.010309\n"
     ]
    },
    {
     "data": {
      "text/html": [
       "<div>\n",
       "<style scoped>\n",
       "    .dataframe tbody tr th:only-of-type {\n",
       "        vertical-align: middle;\n",
       "    }\n",
       "\n",
       "    .dataframe tbody tr th {\n",
       "        vertical-align: top;\n",
       "    }\n",
       "\n",
       "    .dataframe thead th {\n",
       "        text-align: right;\n",
       "    }\n",
       "</style>\n",
       "<table border=\"1\" class=\"dataframe\">\n",
       "  <thead>\n",
       "    <tr style=\"text-align: right;\">\n",
       "      <th></th>\n",
       "      <th>Precisión Global</th>\n",
       "      <th>Error Global</th>\n",
       "      <th>No</th>\n",
       "      <th>Si</th>\n",
       "    </tr>\n",
       "  </thead>\n",
       "  <tbody>\n",
       "    <tr>\n",
       "      <th>0</th>\n",
       "      <td>0.61829</td>\n",
       "      <td>0.38171</td>\n",
       "      <td>1.0</td>\n",
       "      <td>0.010309</td>\n",
       "    </tr>\n",
       "  </tbody>\n",
       "</table>\n",
       "</div>"
      ],
      "text/plain": [
       "   Precisión Global  Error Global   No        Si\n",
       "0           0.61829       0.38171  1.0  0.010309"
      ]
     },
     "execution_count": 461,
     "metadata": {},
     "output_type": "execute_result"
    }
   ],
   "source": [
    "modelo2 = MLPClassifier(hidden_layer_sizes= (10,25) , activation=\"tanh\", solver=\"sgd\", random_state=0)\n",
    "analisisModelo2 = Analisis_Predictivo(datos=potabilidad,predecir= \"Potability\",modelo=modelo2,\n",
    "                                       train_size= 0.75, random_state=0)\n",
    "transformToDataFrame(analisisModelo2)"
   ]
  },
  {
   "cell_type": "code",
   "execution_count": 462,
   "metadata": {
    "pycharm": {
     "name": "#%%\n"
    }
   },
   "outputs": [],
   "source": [
    "potabilidad.iloc[:,:-1] = StandardScaler().fit_transform(potabilidad.iloc[:,:-1])"
   ]
  },
  {
   "cell_type": "markdown",
   "metadata": {},
   "source": [
    "Estas metricas pertenecen al modelo 1, con la estandarizacion de datos y aunque los resultados son malo al igual que en el anterior de acuerdo a la matriz de confusion podemos darnos cuenta, que realmente si mejoran bastante, con respecto al anterior"
   ]
  },
  {
   "cell_type": "code",
   "execution_count": 463,
   "metadata": {
    "pycharm": {
     "name": "#%%\n"
    }
   },
   "outputs": [
    {
     "name": "stdout",
     "output_type": "stream",
     "text": [
      "\n",
      "Matriz de Confusión:\n",
      "[[304   5]\n",
      " [184  10]]\n",
      "\n",
      "Precisión Global:\n",
      "0.6242544731610338\n",
      "\n",
      "Error Global:\n",
      "0.3757455268389662\n",
      "\n",
      "Precisión por categoría:\n",
      "         No        Si\n",
      "0  0.983819  0.051546\n"
     ]
    },
    {
     "data": {
      "text/html": [
       "<div>\n",
       "<style scoped>\n",
       "    .dataframe tbody tr th:only-of-type {\n",
       "        vertical-align: middle;\n",
       "    }\n",
       "\n",
       "    .dataframe tbody tr th {\n",
       "        vertical-align: top;\n",
       "    }\n",
       "\n",
       "    .dataframe thead th {\n",
       "        text-align: right;\n",
       "    }\n",
       "</style>\n",
       "<table border=\"1\" class=\"dataframe\">\n",
       "  <thead>\n",
       "    <tr style=\"text-align: right;\">\n",
       "      <th></th>\n",
       "      <th>Precisión Global</th>\n",
       "      <th>Error Global</th>\n",
       "      <th>No</th>\n",
       "      <th>Si</th>\n",
       "    </tr>\n",
       "  </thead>\n",
       "  <tbody>\n",
       "    <tr>\n",
       "      <th>0</th>\n",
       "      <td>0.624254</td>\n",
       "      <td>0.375746</td>\n",
       "      <td>0.983819</td>\n",
       "      <td>0.051546</td>\n",
       "    </tr>\n",
       "  </tbody>\n",
       "</table>\n",
       "</div>"
      ],
      "text/plain": [
       "   Precisión Global  Error Global        No        Si\n",
       "0          0.624254      0.375746  0.983819  0.051546"
      ]
     },
     "execution_count": 463,
     "metadata": {},
     "output_type": "execute_result"
    }
   ],
   "source": [
    "modelo = MLPClassifier(hidden_layer_sizes= (6,) , activation= \"identity\", solver=\"adam\", random_state=0)\n",
    "analisisModelo1 = Analisis_Predictivo(datos=potabilidad,predecir= \"Potability\",modelo=modelo,\n",
    "                                       train_size= 0.75, random_state=0)\n",
    "\n",
    "transformToDataFrame(analisisModelo1)\n"
   ]
  },
  {
   "cell_type": "markdown",
   "metadata": {},
   "source": [
    "En el caso del modelo 2 podemos ver que se mejora en el tema del si, aunque claramente se puede notar que es muy poco, si nota que la estadarizacion de datos es demasiado importante cuando estamos usando las redes neuronales"
   ]
  },
  {
   "cell_type": "code",
   "execution_count": 464,
   "metadata": {
    "pycharm": {
     "name": "#%%\n"
    }
   },
   "outputs": [
    {
     "name": "stdout",
     "output_type": "stream",
     "text": [
      "\n",
      "Matriz de Confusión:\n",
      "[[306   3]\n",
      " [192   2]]\n",
      "\n",
      "Precisión Global:\n",
      "0.6123260437375746\n",
      "\n",
      "Error Global:\n",
      "0.3876739562624254\n",
      "\n",
      "Precisión por categoría:\n",
      "         No        Si\n",
      "0  0.990291  0.010309\n"
     ]
    },
    {
     "data": {
      "text/html": [
       "<div>\n",
       "<style scoped>\n",
       "    .dataframe tbody tr th:only-of-type {\n",
       "        vertical-align: middle;\n",
       "    }\n",
       "\n",
       "    .dataframe tbody tr th {\n",
       "        vertical-align: top;\n",
       "    }\n",
       "\n",
       "    .dataframe thead th {\n",
       "        text-align: right;\n",
       "    }\n",
       "</style>\n",
       "<table border=\"1\" class=\"dataframe\">\n",
       "  <thead>\n",
       "    <tr style=\"text-align: right;\">\n",
       "      <th></th>\n",
       "      <th>Precisión Global</th>\n",
       "      <th>Error Global</th>\n",
       "      <th>No</th>\n",
       "      <th>Si</th>\n",
       "    </tr>\n",
       "  </thead>\n",
       "  <tbody>\n",
       "    <tr>\n",
       "      <th>0</th>\n",
       "      <td>0.612326</td>\n",
       "      <td>0.387674</td>\n",
       "      <td>0.990291</td>\n",
       "      <td>0.010309</td>\n",
       "    </tr>\n",
       "  </tbody>\n",
       "</table>\n",
       "</div>"
      ],
      "text/plain": [
       "   Precisión Global  Error Global        No        Si\n",
       "0          0.612326      0.387674  0.990291  0.010309"
      ]
     },
     "execution_count": 464,
     "metadata": {},
     "output_type": "execute_result"
    }
   ],
   "source": [
    "modelo2 = MLPClassifier(hidden_layer_sizes= (10,25) , activation=\"tanh\", solver=\"sgd\", random_state=0)\n",
    "analisisModelo2 = Analisis_Predictivo(datos=potabilidad,predecir= \"Potability\",modelo=modelo2,\n",
    "                                       train_size= 0.75, random_state=0)\n",
    "transformToDataFrame(analisisModelo2)"
   ]
  },
  {
   "cell_type": "code",
   "execution_count": 465,
   "metadata": {
    "pycharm": {
     "name": "#%%\n"
    }
   },
   "outputs": [
    {
     "data": {
      "text/html": [
       "<div>\n",
       "<style scoped>\n",
       "    .dataframe tbody tr th:only-of-type {\n",
       "        vertical-align: middle;\n",
       "    }\n",
       "\n",
       "    .dataframe tbody tr th {\n",
       "        vertical-align: top;\n",
       "    }\n",
       "\n",
       "    .dataframe thead th {\n",
       "        text-align: right;\n",
       "    }\n",
       "</style>\n",
       "<table border=\"1\" class=\"dataframe\">\n",
       "  <thead>\n",
       "    <tr style=\"text-align: right;\">\n",
       "      <th></th>\n",
       "      <th>volatil.acidez</th>\n",
       "      <th>citrica.acidez</th>\n",
       "      <th>residual.azucar</th>\n",
       "      <th>cloruros</th>\n",
       "      <th>libre.sulfuro.dioxido</th>\n",
       "      <th>total.sulfuro.dioxido</th>\n",
       "      <th>densidad</th>\n",
       "      <th>pH</th>\n",
       "      <th>sulfitos</th>\n",
       "      <th>alcohol</th>\n",
       "      <th>calidad</th>\n",
       "      <th>tipo</th>\n",
       "    </tr>\n",
       "  </thead>\n",
       "  <tbody>\n",
       "    <tr>\n",
       "      <th>0</th>\n",
       "      <td>0.30</td>\n",
       "      <td>0.21</td>\n",
       "      <td>1.1</td>\n",
       "      <td>0.032</td>\n",
       "      <td>31.0</td>\n",
       "      <td>111.0</td>\n",
       "      <td>0.98890</td>\n",
       "      <td>2.97</td>\n",
       "      <td>0.42</td>\n",
       "      <td>12.2</td>\n",
       "      <td>6</td>\n",
       "      <td>blanco</td>\n",
       "    </tr>\n",
       "    <tr>\n",
       "      <th>1</th>\n",
       "      <td>0.61</td>\n",
       "      <td>0.01</td>\n",
       "      <td>1.9</td>\n",
       "      <td>0.080</td>\n",
       "      <td>8.0</td>\n",
       "      <td>25.0</td>\n",
       "      <td>0.99746</td>\n",
       "      <td>3.69</td>\n",
       "      <td>0.73</td>\n",
       "      <td>10.5</td>\n",
       "      <td>5</td>\n",
       "      <td>tinto</td>\n",
       "    </tr>\n",
       "    <tr>\n",
       "      <th>2</th>\n",
       "      <td>0.32</td>\n",
       "      <td>0.23</td>\n",
       "      <td>16.2</td>\n",
       "      <td>0.055</td>\n",
       "      <td>36.0</td>\n",
       "      <td>176.0</td>\n",
       "      <td>0.99860</td>\n",
       "      <td>3.26</td>\n",
       "      <td>0.54</td>\n",
       "      <td>9.1</td>\n",
       "      <td>5</td>\n",
       "      <td>blanco</td>\n",
       "    </tr>\n",
       "    <tr>\n",
       "      <th>3</th>\n",
       "      <td>0.22</td>\n",
       "      <td>0.29</td>\n",
       "      <td>8.9</td>\n",
       "      <td>0.050</td>\n",
       "      <td>24.0</td>\n",
       "      <td>90.0</td>\n",
       "      <td>0.99556</td>\n",
       "      <td>3.29</td>\n",
       "      <td>0.46</td>\n",
       "      <td>9.8</td>\n",
       "      <td>6</td>\n",
       "      <td>blanco</td>\n",
       "    </tr>\n",
       "    <tr>\n",
       "      <th>4</th>\n",
       "      <td>0.43</td>\n",
       "      <td>0.27</td>\n",
       "      <td>1.1</td>\n",
       "      <td>0.054</td>\n",
       "      <td>5.0</td>\n",
       "      <td>110.0</td>\n",
       "      <td>0.99390</td>\n",
       "      <td>3.24</td>\n",
       "      <td>0.52</td>\n",
       "      <td>9.1</td>\n",
       "      <td>4</td>\n",
       "      <td>blanco</td>\n",
       "    </tr>\n",
       "    <tr>\n",
       "      <th>...</th>\n",
       "      <td>...</td>\n",
       "      <td>...</td>\n",
       "      <td>...</td>\n",
       "      <td>...</td>\n",
       "      <td>...</td>\n",
       "      <td>...</td>\n",
       "      <td>...</td>\n",
       "      <td>...</td>\n",
       "      <td>...</td>\n",
       "      <td>...</td>\n",
       "      <td>...</td>\n",
       "      <td>...</td>\n",
       "    </tr>\n",
       "    <tr>\n",
       "      <th>6492</th>\n",
       "      <td>0.24</td>\n",
       "      <td>0.19</td>\n",
       "      <td>1.2</td>\n",
       "      <td>0.041</td>\n",
       "      <td>30.0</td>\n",
       "      <td>111.0</td>\n",
       "      <td>0.99254</td>\n",
       "      <td>2.99</td>\n",
       "      <td>0.46</td>\n",
       "      <td>9.4</td>\n",
       "      <td>6</td>\n",
       "      <td>blanco</td>\n",
       "    </tr>\n",
       "    <tr>\n",
       "      <th>6493</th>\n",
       "      <td>0.26</td>\n",
       "      <td>0.43</td>\n",
       "      <td>12.6</td>\n",
       "      <td>0.033</td>\n",
       "      <td>64.0</td>\n",
       "      <td>230.0</td>\n",
       "      <td>0.99740</td>\n",
       "      <td>3.08</td>\n",
       "      <td>0.38</td>\n",
       "      <td>8.9</td>\n",
       "      <td>5</td>\n",
       "      <td>blanco</td>\n",
       "    </tr>\n",
       "    <tr>\n",
       "      <th>6494</th>\n",
       "      <td>0.25</td>\n",
       "      <td>0.48</td>\n",
       "      <td>10.0</td>\n",
       "      <td>0.044</td>\n",
       "      <td>78.0</td>\n",
       "      <td>240.0</td>\n",
       "      <td>0.99655</td>\n",
       "      <td>3.25</td>\n",
       "      <td>0.47</td>\n",
       "      <td>9.5</td>\n",
       "      <td>6</td>\n",
       "      <td>blanco</td>\n",
       "    </tr>\n",
       "    <tr>\n",
       "      <th>6495</th>\n",
       "      <td>0.60</td>\n",
       "      <td>0.20</td>\n",
       "      <td>9.9</td>\n",
       "      <td>0.070</td>\n",
       "      <td>21.0</td>\n",
       "      <td>174.0</td>\n",
       "      <td>0.99710</td>\n",
       "      <td>3.03</td>\n",
       "      <td>0.54</td>\n",
       "      <td>9.1</td>\n",
       "      <td>5</td>\n",
       "      <td>blanco</td>\n",
       "    </tr>\n",
       "    <tr>\n",
       "      <th>6496</th>\n",
       "      <td>0.39</td>\n",
       "      <td>0.16</td>\n",
       "      <td>1.4</td>\n",
       "      <td>0.080</td>\n",
       "      <td>11.0</td>\n",
       "      <td>23.0</td>\n",
       "      <td>0.99550</td>\n",
       "      <td>3.34</td>\n",
       "      <td>0.56</td>\n",
       "      <td>9.3</td>\n",
       "      <td>5</td>\n",
       "      <td>tinto</td>\n",
       "    </tr>\n",
       "  </tbody>\n",
       "</table>\n",
       "<p>6497 rows × 12 columns</p>\n",
       "</div>"
      ],
      "text/plain": [
       "      volatil.acidez  citrica.acidez  residual.azucar  cloruros  \\\n",
       "0               0.30            0.21              1.1     0.032   \n",
       "1               0.61            0.01              1.9     0.080   \n",
       "2               0.32            0.23             16.2     0.055   \n",
       "3               0.22            0.29              8.9     0.050   \n",
       "4               0.43            0.27              1.1     0.054   \n",
       "...              ...             ...              ...       ...   \n",
       "6492            0.24            0.19              1.2     0.041   \n",
       "6493            0.26            0.43             12.6     0.033   \n",
       "6494            0.25            0.48             10.0     0.044   \n",
       "6495            0.60            0.20              9.9     0.070   \n",
       "6496            0.39            0.16              1.4     0.080   \n",
       "\n",
       "      libre.sulfuro.dioxido  total.sulfuro.dioxido  densidad    pH  sulfitos  \\\n",
       "0                      31.0                  111.0   0.98890  2.97      0.42   \n",
       "1                       8.0                   25.0   0.99746  3.69      0.73   \n",
       "2                      36.0                  176.0   0.99860  3.26      0.54   \n",
       "3                      24.0                   90.0   0.99556  3.29      0.46   \n",
       "4                       5.0                  110.0   0.99390  3.24      0.52   \n",
       "...                     ...                    ...       ...   ...       ...   \n",
       "6492                   30.0                  111.0   0.99254  2.99      0.46   \n",
       "6493                   64.0                  230.0   0.99740  3.08      0.38   \n",
       "6494                   78.0                  240.0   0.99655  3.25      0.47   \n",
       "6495                   21.0                  174.0   0.99710  3.03      0.54   \n",
       "6496                   11.0                   23.0   0.99550  3.34      0.56   \n",
       "\n",
       "      alcohol  calidad    tipo  \n",
       "0        12.2        6  blanco  \n",
       "1        10.5        5   tinto  \n",
       "2         9.1        5  blanco  \n",
       "3         9.8        6  blanco  \n",
       "4         9.1        4  blanco  \n",
       "...       ...      ...     ...  \n",
       "6492      9.4        6  blanco  \n",
       "6493      8.9        5  blanco  \n",
       "6494      9.5        6  blanco  \n",
       "6495      9.1        5  blanco  \n",
       "6496      9.3        5   tinto  \n",
       "\n",
       "[6497 rows x 12 columns]"
      ]
     },
     "execution_count": 465,
     "metadata": {},
     "output_type": "execute_result"
    }
   ],
   "source": [
    "wine = pd.read_csv(\"wine.csv\")\n",
    "wine = wine.iloc[:,1:]\n",
    "wine"
   ]
  },
  {
   "cell_type": "markdown",
   "metadata": {},
   "source": [
    "Para el primer modelo , la tabla de vinos nos envia unos resultados sorprendentes, podemos ver que aun sin estandarizacion tenemos un resultado del 97% en la precision global, pero igualmente se puede ver en los valores especificos de si es tinto o blanco, podemos ver que es super alto, lo que a su vez indica que el error global es muy bajo."
   ]
  },
  {
   "cell_type": "code",
   "execution_count": 466,
   "metadata": {
    "pycharm": {
     "name": "#%%\n"
    }
   },
   "outputs": [
    {
     "name": "stdout",
     "output_type": "stream",
     "text": [
      "\n",
      "Matriz de Confusión:\n",
      "[[965  12]\n",
      " [ 18 305]]\n",
      "\n",
      "Precisión Global:\n",
      "0.9769230769230769\n",
      "\n",
      "Error Global:\n",
      "0.023076923076923106\n",
      "\n",
      "Precisión por categoría:\n",
      "     blanco     tinto\n",
      "0  0.987718  0.944272\n"
     ]
    },
    {
     "name": "stderr",
     "output_type": "stream",
     "text": [
      "/home/william/PycharmProjects/pythonProject/venv/lib/python3.8/site-packages/sklearn/neural_network/_multilayer_perceptron.py:614: ConvergenceWarning: Stochastic Optimizer: Maximum iterations (200) reached and the optimization hasn't converged yet.\n",
      "  warnings.warn(\n"
     ]
    },
    {
     "data": {
      "text/html": [
       "<div>\n",
       "<style scoped>\n",
       "    .dataframe tbody tr th:only-of-type {\n",
       "        vertical-align: middle;\n",
       "    }\n",
       "\n",
       "    .dataframe tbody tr th {\n",
       "        vertical-align: top;\n",
       "    }\n",
       "\n",
       "    .dataframe thead th {\n",
       "        text-align: right;\n",
       "    }\n",
       "</style>\n",
       "<table border=\"1\" class=\"dataframe\">\n",
       "  <thead>\n",
       "    <tr style=\"text-align: right;\">\n",
       "      <th></th>\n",
       "      <th>Precisión Global</th>\n",
       "      <th>Error Global</th>\n",
       "      <th>blanco</th>\n",
       "      <th>tinto</th>\n",
       "    </tr>\n",
       "  </thead>\n",
       "  <tbody>\n",
       "    <tr>\n",
       "      <th>0</th>\n",
       "      <td>0.976923</td>\n",
       "      <td>0.023077</td>\n",
       "      <td>0.987718</td>\n",
       "      <td>0.944272</td>\n",
       "    </tr>\n",
       "  </tbody>\n",
       "</table>\n",
       "</div>"
      ],
      "text/plain": [
       "   Precisión Global  Error Global    blanco     tinto\n",
       "0          0.976923      0.023077  0.987718  0.944272"
      ]
     },
     "execution_count": 466,
     "metadata": {},
     "output_type": "execute_result"
    }
   ],
   "source": [
    "modelo = MLPClassifier(hidden_layer_sizes= (6,) , activation= \"identity\", solver=\"adam\", random_state=0)\n",
    "analisisModelo1 = Analisis_Predictivo(datos=wine,predecir= \"tipo\",modelo=modelo,\n",
    "                                       train_size= 0.80, random_state=0)\n",
    "transformToDataFrame(analisisModelo1)"
   ]
  },
  {
   "cell_type": "markdown",
   "metadata": {},
   "source": [
    "Para el segundo modelo , la tabla de vinos nos envia unos resultados sorprendentes, podemos ver que aun sin estandarizacion tenemos un resultado del 92% en la precision global, pero igualmente se puede ver en los valores especificos de si es tinto o blanco, podemos ver que es super alto, lo que a su vez indica que el error global es muy bajo."
   ]
  },
  {
   "cell_type": "code",
   "execution_count": 467,
   "metadata": {
    "pycharm": {
     "name": "#%%\n"
    }
   },
   "outputs": [
    {
     "name": "stdout",
     "output_type": "stream",
     "text": [
      "\n",
      "Matriz de Confusión:\n",
      "[[936  41]\n",
      " [ 59 264]]\n",
      "\n",
      "Precisión Global:\n",
      "0.9230769230769231\n",
      "\n",
      "Error Global:\n",
      "0.07692307692307687\n",
      "\n",
      "Precisión por categoría:\n",
      "     blanco     tinto\n",
      "0  0.958035  0.817337\n"
     ]
    },
    {
     "data": {
      "text/html": [
       "<div>\n",
       "<style scoped>\n",
       "    .dataframe tbody tr th:only-of-type {\n",
       "        vertical-align: middle;\n",
       "    }\n",
       "\n",
       "    .dataframe tbody tr th {\n",
       "        vertical-align: top;\n",
       "    }\n",
       "\n",
       "    .dataframe thead th {\n",
       "        text-align: right;\n",
       "    }\n",
       "</style>\n",
       "<table border=\"1\" class=\"dataframe\">\n",
       "  <thead>\n",
       "    <tr style=\"text-align: right;\">\n",
       "      <th></th>\n",
       "      <th>Precisión Global</th>\n",
       "      <th>Error Global</th>\n",
       "      <th>blanco</th>\n",
       "      <th>tinto</th>\n",
       "    </tr>\n",
       "  </thead>\n",
       "  <tbody>\n",
       "    <tr>\n",
       "      <th>0</th>\n",
       "      <td>0.923077</td>\n",
       "      <td>0.076923</td>\n",
       "      <td>0.958035</td>\n",
       "      <td>0.817337</td>\n",
       "    </tr>\n",
       "  </tbody>\n",
       "</table>\n",
       "</div>"
      ],
      "text/plain": [
       "   Precisión Global  Error Global    blanco     tinto\n",
       "0          0.923077      0.076923  0.958035  0.817337"
      ]
     },
     "execution_count": 467,
     "metadata": {},
     "output_type": "execute_result"
    }
   ],
   "source": [
    "modelo2 = MLPClassifier(hidden_layer_sizes= (10,25) , activation=\"tanh\", solver=\"sgd\", random_state=0)\n",
    "analisisModelo2 = Analisis_Predictivo(datos=wine,predecir= \"tipo\",modelo=modelo2,\n",
    "                                       train_size= 0.80, random_state=0)\n",
    "transformToDataFrame(analisisModelo2)"
   ]
  },
  {
   "cell_type": "code",
   "execution_count": 468,
   "metadata": {
    "pycharm": {
     "name": "#%%\n"
    }
   },
   "outputs": [],
   "source": [
    "wine.iloc[:,:-1] = StandardScaler().fit_transform(wine.iloc[:,:-1])"
   ]
  },
  {
   "cell_type": "markdown",
   "metadata": {},
   "source": [
    "En el caso de cuando es estandarizado, lo que sucede es que mejora bastante con respecto al modelo sin estandarizar, que de igualmanera era bastante alta, pero ahora esta espectacular"
   ]
  },
  {
   "cell_type": "code",
   "execution_count": 469,
   "metadata": {
    "pycharm": {
     "name": "#%%\n"
    }
   },
   "outputs": [
    {
     "name": "stdout",
     "output_type": "stream",
     "text": [
      "\n",
      "Matriz de Confusión:\n",
      "[[974   3]\n",
      " [  4 319]]\n",
      "\n",
      "Precisión Global:\n",
      "0.9946153846153846\n",
      "\n",
      "Error Global:\n",
      "0.005384615384615432\n",
      "\n",
      "Precisión por categoría:\n",
      "     blanco     tinto\n",
      "0  0.996929  0.987616\n"
     ]
    },
    {
     "data": {
      "text/html": [
       "<div>\n",
       "<style scoped>\n",
       "    .dataframe tbody tr th:only-of-type {\n",
       "        vertical-align: middle;\n",
       "    }\n",
       "\n",
       "    .dataframe tbody tr th {\n",
       "        vertical-align: top;\n",
       "    }\n",
       "\n",
       "    .dataframe thead th {\n",
       "        text-align: right;\n",
       "    }\n",
       "</style>\n",
       "<table border=\"1\" class=\"dataframe\">\n",
       "  <thead>\n",
       "    <tr style=\"text-align: right;\">\n",
       "      <th></th>\n",
       "      <th>Precisión Global</th>\n",
       "      <th>Error Global</th>\n",
       "      <th>blanco</th>\n",
       "      <th>tinto</th>\n",
       "    </tr>\n",
       "  </thead>\n",
       "  <tbody>\n",
       "    <tr>\n",
       "      <th>0</th>\n",
       "      <td>0.994615</td>\n",
       "      <td>0.005385</td>\n",
       "      <td>0.996929</td>\n",
       "      <td>0.987616</td>\n",
       "    </tr>\n",
       "  </tbody>\n",
       "</table>\n",
       "</div>"
      ],
      "text/plain": [
       "   Precisión Global  Error Global    blanco     tinto\n",
       "0          0.994615      0.005385  0.996929  0.987616"
      ]
     },
     "execution_count": 469,
     "metadata": {},
     "output_type": "execute_result"
    }
   ],
   "source": [
    "modelo = MLPClassifier(hidden_layer_sizes= (6,) , activation= \"identity\", solver=\"adam\", random_state=0)\n",
    "analisisModelo1 = Analisis_Predictivo(datos=wine,predecir= \"tipo\",modelo=modelo,\n",
    "                                       train_size= 0.80, random_state=0)\n",
    "\n",
    "transformToDataFrame(analisisModelo1)"
   ]
  },
  {
   "cell_type": "markdown",
   "metadata": {
    "pycharm": {
     "name": "#%% md\n"
    }
   },
   "source": [
    "De igualmanera para el modelo 2 estandarizado, aunque el modelo 2 sin estandarizar fue bueno con un 92%, este modelo lo supera por mucho."
   ]
  },
  {
   "cell_type": "markdown",
   "metadata": {
    "pycharm": {
     "name": "#%% md\n"
    }
   },
   "source": [
    "Realmente la conclusion que me dejo este ejercicio es que siempre en las redes neuronales se obtiene un mejor resultado cuando se realiza la estandarizacion de datos."
   ]
  },
  {
   "cell_type": "code",
   "execution_count": 470,
   "metadata": {
    "pycharm": {
     "name": "#%%\n"
    }
   },
   "outputs": [
    {
     "name": "stdout",
     "output_type": "stream",
     "text": [
      "\n",
      "Matriz de Confusión:\n",
      "[[974   3]\n",
      " [  5 318]]\n",
      "\n",
      "Precisión Global:\n",
      "0.9938461538461538\n",
      "\n",
      "Error Global:\n",
      "0.006153846153846176\n",
      "\n",
      "Precisión por categoría:\n",
      "     blanco    tinto\n",
      "0  0.996929  0.98452\n"
     ]
    },
    {
     "data": {
      "text/html": [
       "<div>\n",
       "<style scoped>\n",
       "    .dataframe tbody tr th:only-of-type {\n",
       "        vertical-align: middle;\n",
       "    }\n",
       "\n",
       "    .dataframe tbody tr th {\n",
       "        vertical-align: top;\n",
       "    }\n",
       "\n",
       "    .dataframe thead th {\n",
       "        text-align: right;\n",
       "    }\n",
       "</style>\n",
       "<table border=\"1\" class=\"dataframe\">\n",
       "  <thead>\n",
       "    <tr style=\"text-align: right;\">\n",
       "      <th></th>\n",
       "      <th>Precisión Global</th>\n",
       "      <th>Error Global</th>\n",
       "      <th>blanco</th>\n",
       "      <th>tinto</th>\n",
       "    </tr>\n",
       "  </thead>\n",
       "  <tbody>\n",
       "    <tr>\n",
       "      <th>0</th>\n",
       "      <td>0.993846</td>\n",
       "      <td>0.006154</td>\n",
       "      <td>0.996929</td>\n",
       "      <td>0.98452</td>\n",
       "    </tr>\n",
       "  </tbody>\n",
       "</table>\n",
       "</div>"
      ],
      "text/plain": [
       "   Precisión Global  Error Global    blanco    tinto\n",
       "0          0.993846      0.006154  0.996929  0.98452"
      ]
     },
     "execution_count": 470,
     "metadata": {},
     "output_type": "execute_result"
    }
   ],
   "source": [
    "modelo2 = MLPClassifier(hidden_layer_sizes= (10,25) , activation=\"tanh\", solver=\"sgd\", random_state=0)\n",
    "analisisModelo2 = Analisis_Predictivo(datos=wine,predecir= \"tipo\",modelo=modelo2,\n",
    "                                      train_size= 0.80, random_state=0)\n",
    "transformToDataFrame(analisisModelo2)"
   ]
  },
  {
   "cell_type": "code",
   "execution_count": 471,
   "metadata": {
    "pycharm": {
     "name": "#%%\n"
    }
   },
   "outputs": [],
   "source": [
    "dataTest = pd.read_csv(\"ZipDataTestCod.csv\", sep=\";\")\n",
    "dataTrain = pd.read_csv(\"ZipDataTrainCod.csv\", sep=\";\")\n",
    "def comprimir(data, p=4, filtradoPorMayor = False):\n",
    "  t = pd.DataFrame()\n",
    "\n",
    "  for k in range(len(data)):\n",
    "    matriz = data.iloc[k]\n",
    "    matriz = np.array([matriz]).reshape(16,16)\n",
    "    inicial_espe = 0\n",
    "    fin_espe = p\n",
    "    contador = 0\n",
    "    datos = []\n",
    "\n",
    "    for i in range(p):\n",
    "      inicial = 0\n",
    "      fin = p\n",
    "\n",
    "      for j in range(p):\n",
    "        mayor = matriz[inicial_espe:fin_espe, inicial:fin]\n",
    "        num = max(map(max, mayor))\n",
    "\n",
    "        if not filtradoPorMayor:\n",
    "            datos.append(sum(sum(matriz[inicial_espe:fin_espe, inicial:fin]))/(p*p))\n",
    "        else:\n",
    "            datos.append(num)\n",
    "\n",
    "        contador += 1\n",
    "        inicial += p\n",
    "        fin += p\n",
    "\n",
    "      inicial_espe += p\n",
    "      fin_espe += p\n",
    "\n",
    "    t.loc[:,k] = datos\n",
    "\n",
    "  return t.T\n",
    "\n"
   ]
  },
  {
   "cell_type": "markdown",
   "metadata": {
    "pycharm": {
     "name": "#%% md\n"
    }
   },
   "source": [
    "Este seria el resultado del utilizar la matriz de confusion sin comprimir los datos"
   ]
  },
  {
   "cell_type": "code",
   "execution_count": 472,
   "metadata": {
    "pycharm": {
     "name": "#%%\n"
    }
   },
   "outputs": [
    {
     "data": {
      "text/plain": [
       "{'Matriz de Confusión': array([[352,   0,   3,   2,   1,   0,   1,   0,   0,   0],\n",
       "        [  3, 147,   0,   1,   3,   1,   0,   0,   5,   0],\n",
       "        [  1,   2, 187,   2,   4,   0,   2,   0,   0,   2],\n",
       "        [  3,   0,   2, 181,   0,   6,   1,   2,   3,   0],\n",
       "        [  0,   1,   6,   0, 169,   0,   0,   1,   0,   0],\n",
       "        [  4,   1,   3,   2,   1, 150,   0,   1,   4,   0],\n",
       "        [  0,   1,   2,   3,   0,   1, 163,   0,   0,   0],\n",
       "        [  0,   0,   7,   1,   2,   1,   0, 136,   0,   0],\n",
       "        [  1,   9,   0,   3,   0,   4,   0,   0, 149,   0],\n",
       "        [  0,   0,   4,   1,   1,   1,   3,   0,   1, 253]]),\n",
       " 'Precisión Global': 0.9402092675635276,\n",
       " 'Error Global': 0.05979073243647237,\n",
       " 'Precisión por categoría':        cero    cinco  cuatro       dos     nueve      ocho      seis    siete  \\\n",
       " 0  0.980501  0.91875   0.935  0.914141  0.954802  0.903614  0.958824  0.92517   \n",
       " \n",
       "       tres       uno  \n",
       " 0  0.89759  0.958333  }"
      ]
     },
     "execution_count": 472,
     "metadata": {},
     "output_type": "execute_result"
    }
   ],
   "source": [
    "ytest = dataTest['Numero']\n",
    "dataTest = dataTest.drop(columns=['Numero'])\n",
    "\n",
    "ytrain = dataTrain['Numero']\n",
    "dataTrain = dataTrain.drop(columns=['Numero'])\n",
    "\n",
    "modeloDataSinComprimir = MLPClassifier(hidden_layer_sizes =(250,100,50,25), max_iter = 50000, activation = 'relu', solver = 'adam',random_state=0)\n",
    "analisisModelo2 = Analisis_Predictivo(predecir= \"Numero\",modelo=modeloDataSinComprimir, random_state=0, xtrain= dataTrain, xtest=dataTest, ytrain=ytrain, ytest=ytest)\n",
    "analisisModelo2.fit_predict_resultados(inyectado=ytrain.append(ytest), custom=True, imprimir=False)"
   ]
  },
  {
   "cell_type": "markdown",
   "metadata": {},
   "source": [
    "Este seria el resultado del utilizar la matriz de confusion comprimiendo los datos en forma de 4 X 4, realmente no noto mucha diferencia con los resultados anteriores, realmente es bastante similar un poquito peor pero bastante similar"
   ]
  },
  {
   "cell_type": "code",
   "execution_count": 473,
   "metadata": {
    "pycharm": {
     "name": "#%%\n"
    }
   },
   "outputs": [
    {
     "data": {
      "text/plain": [
       "{'Matriz de Confusión': array([[343,   1,   1,   2,   0,   6,   2,   2,   0,   2],\n",
       "        [  2, 145,   1,   0,   3,   2,   1,   0,   6,   0],\n",
       "        [  0,   1, 179,   2,  12,   0,   4,   1,   0,   1],\n",
       "        [  4,   5,   2, 175,   1,   5,   2,   1,   3,   0],\n",
       "        [  0,   0,   3,   0, 170,   1,   0,   3,   0,   0],\n",
       "        [  3,   2,   2,   1,   6, 145,   0,   0,   5,   2],\n",
       "        [  8,   1,   2,   1,   0,   0, 157,   0,   0,   1],\n",
       "        [  0,   0,   4,   1,   7,   1,   0, 131,   3,   0],\n",
       "        [  3,  17,   0,   2,   2,   7,   0,   0, 134,   1],\n",
       "        [  1,   1,   3,   1,   0,   5,   3,   2,   1, 247]]),\n",
       " 'Precisión Global': 0.9098156452416543,\n",
       " 'Error Global': 0.09018435475834574,\n",
       " 'Precisión por categoría':        cero    cinco  cuatro       dos     nueve      ocho      seis  \\\n",
       " 0  0.955432  0.90625   0.895  0.883838  0.960452  0.873494  0.923529   \n",
       " \n",
       "       siete      tres       uno  \n",
       " 0  0.891156  0.807229  0.935606  }"
      ]
     },
     "execution_count": 453,
     "metadata": {},
     "output_type": "execute_result"
    },
    {
     "data": {
      "text/plain": [
       "{'Matriz de Confusión': array([[343,   1,   1,   2,   0,   6,   2,   2,   0,   2],\n",
       "        [  2, 145,   1,   0,   3,   2,   1,   0,   6,   0],\n",
       "        [  0,   1, 179,   2,  12,   0,   4,   1,   0,   1],\n",
       "        [  4,   5,   2, 175,   1,   5,   2,   1,   3,   0],\n",
       "        [  0,   0,   3,   0, 170,   1,   0,   3,   0,   0],\n",
       "        [  3,   2,   2,   1,   6, 145,   0,   0,   5,   2],\n",
       "        [  8,   1,   2,   1,   0,   0, 157,   0,   0,   1],\n",
       "        [  0,   0,   4,   1,   7,   1,   0, 131,   3,   0],\n",
       "        [  3,  17,   0,   2,   2,   7,   0,   0, 134,   1],\n",
       "        [  1,   1,   3,   1,   0,   5,   3,   2,   1, 247]]),\n",
       " 'Precisión Global': 0.9098156452416543,\n",
       " 'Error Global': 0.09018435475834574,\n",
       " 'Precisión por categoría':        cero    cinco  cuatro       dos     nueve      ocho      seis  \\\n",
       " 0  0.955432  0.90625   0.895  0.883838  0.960452  0.873494  0.923529   \n",
       " \n",
       "       siete      tres       uno  \n",
       " 0  0.891156  0.807229  0.935606  }"
      ]
     },
     "execution_count": 454,
     "metadata": {},
     "output_type": "execute_result"
    },
    {
     "data": {
      "text/plain": [
       "{'Matriz de Confusión': array([[343,   1,   1,   2,   0,   6,   2,   2,   0,   2],\n",
       "        [  2, 145,   1,   0,   3,   2,   1,   0,   6,   0],\n",
       "        [  0,   1, 179,   2,  12,   0,   4,   1,   0,   1],\n",
       "        [  4,   5,   2, 175,   1,   5,   2,   1,   3,   0],\n",
       "        [  0,   0,   3,   0, 170,   1,   0,   3,   0,   0],\n",
       "        [  3,   2,   2,   1,   6, 145,   0,   0,   5,   2],\n",
       "        [  8,   1,   2,   1,   0,   0, 157,   0,   0,   1],\n",
       "        [  0,   0,   4,   1,   7,   1,   0, 131,   3,   0],\n",
       "        [  3,  17,   0,   2,   2,   7,   0,   0, 134,   1],\n",
       "        [  1,   1,   3,   1,   0,   5,   3,   2,   1, 247]]),\n",
       " 'Precisión Global': 0.9098156452416543,\n",
       " 'Error Global': 0.09018435475834574,\n",
       " 'Precisión por categoría':        cero    cinco  cuatro       dos     nueve      ocho      seis  \\\n",
       " 0  0.955432  0.90625   0.895  0.883838  0.960452  0.873494  0.923529   \n",
       " \n",
       "       siete      tres       uno  \n",
       " 0  0.891156  0.807229  0.935606  }"
      ]
     },
     "execution_count": 455,
     "metadata": {},
     "output_type": "execute_result"
    },
    {
     "data": {
      "text/plain": [
       "{'Matriz de Confusión': array([[343,   1,   1,   2,   0,   6,   2,   2,   0,   2],\n",
       "        [  2, 145,   1,   0,   3,   2,   1,   0,   6,   0],\n",
       "        [  0,   1, 179,   2,  12,   0,   4,   1,   0,   1],\n",
       "        [  4,   5,   2, 175,   1,   5,   2,   1,   3,   0],\n",
       "        [  0,   0,   3,   0, 170,   1,   0,   3,   0,   0],\n",
       "        [  3,   2,   2,   1,   6, 145,   0,   0,   5,   2],\n",
       "        [  8,   1,   2,   1,   0,   0, 157,   0,   0,   1],\n",
       "        [  0,   0,   4,   1,   7,   1,   0, 131,   3,   0],\n",
       "        [  3,  17,   0,   2,   2,   7,   0,   0, 134,   1],\n",
       "        [  1,   1,   3,   1,   0,   5,   3,   2,   1, 247]]),\n",
       " 'Precisión Global': 0.9098156452416543,\n",
       " 'Error Global': 0.09018435475834574,\n",
       " 'Precisión por categoría':        cero    cinco  cuatro       dos     nueve      ocho      seis  \\\n",
       " 0  0.955432  0.90625   0.895  0.883838  0.960452  0.873494  0.923529   \n",
       " \n",
       "       siete      tres       uno  \n",
       " 0  0.891156  0.807229  0.935606  }"
      ]
     },
     "execution_count": 473,
     "metadata": {},
     "output_type": "execute_result"
    }
   ],
   "source": [
    "dataTrainComprimido = comprimir(dataTrain)\n",
    "dataTestComprimido = comprimir(dataTest)\n",
    "\n",
    "modeloDataSinComprimir = MLPClassifier(hidden_layer_sizes =(250,100,50,25), max_iter = 50000, activation = 'relu', solver = 'adam',random_state=0)\n",
    "analisisModelo2 = Analisis_Predictivo(predecir= \"Numero\",modelo=modeloDataSinComprimir, random_state=0, xtrain= dataTrainComprimido, xtest=dataTestComprimido, ytrain=ytrain, ytest=ytest)\n",
    "analisisModelo2.fit_predict_resultados(inyectado=ytrain.append(ytest), custom=True, imprimir=False)\n",
    "\n"
   ]
  },
  {
   "cell_type": "code",
   "execution_count": null,
   "metadata": {},
   "outputs": [],
   "source": [
    "Este seria el resultado de comprimir los datos usando los MAXIMOS en lugar de los promedios y realmente no mejora m"
   ]
  },
  {
   "cell_type": "code",
   "execution_count": 474,
   "metadata": {
    "pycharm": {
     "name": "#%%\n"
    }
   },
   "outputs": [
    {
     "data": {
      "text/plain": [
       "{'Matriz de Confusión': array([[316,   1,   0,  10,   1,   8,  15,   0,   1,   7],\n",
       "        [  5, 120,   2,   4,   3,   3,   4,   0,  17,   2],\n",
       "        [  2,   1, 163,   5,  20,   0,   3,   2,   1,   3],\n",
       "        [  9,   3,   1, 171,   1,   2,   1,   1,   5,   4],\n",
       "        [  0,   0,  20,   1, 136,   4,   0,   9,   1,   6],\n",
       "        [ 11,   8,   4,   4,   6,  95,   4,   1,   8,  25],\n",
       "        [ 15,   1,   0,   4,   0,   0, 147,   0,   3,   0],\n",
       "        [  0,   0,   9,   0,  15,   4,   0, 115,   1,   3],\n",
       "        [  8,  17,   2,   9,   2,   5,   1,   4, 116,   2],\n",
       "        [  0,   1,   6,   2,   0,   3,   5,   5,   0, 242]]),\n",
       " 'Precisión Global': 0.807673143996014,\n",
       " 'Error Global': 0.19232685600398602,\n",
       " 'Precisión por categoría':        cero  cinco  cuatro       dos     nueve      ocho      seis     siete  \\\n",
       " 0  0.880223   0.75   0.815  0.863636  0.768362  0.572289  0.864706  0.782313   \n",
       " \n",
       "        tres       uno  \n",
       " 0  0.698795  0.916667  }"
      ]
     },
     "execution_count": 474,
     "metadata": {},
     "output_type": "execute_result"
    }
   ],
   "source": [
    "dataTrainComprimido = comprimir(dataTrain, filtradoPorMayor=True)\n",
    "dataTestComprimido = comprimir(dataTest, filtradoPorMayor=True)\n",
    "\n",
    "modeloDataSinComprimir = MLPClassifier(hidden_layer_sizes =(250,100,50,25), max_iter = 50000, activation = 'relu', solver = 'adam',random_state=0)\n",
    "analisisModelo2 = Analisis_Predictivo(predecir= \"Numero\",modelo=modeloDataSinComprimir, random_state=0, xtrain= dataTrainComprimido, xtest=dataTestComprimido, ytrain=ytrain, ytest=ytest)\n",
    "analisisModelo2.fit_predict_resultados(inyectado=ytrain.append(ytest), custom=True, imprimir=False)"
   ]
  },
  {
   "cell_type": "code",
   "execution_count": 480,
   "metadata": {
    "pycharm": {
     "name": "#%%\n"
    }
   },
   "outputs": [],
   "source": [
    "class CLASIFICADOR:\n",
    "    def __init__(self , matriz = np.array([[1,0,0,1], [1,0,1,1], [1,1,0,1], [1,1,1,0]]), pesos = np.linspace(start=-1, stop=1, num=21), umbral = np.linspace(start=0, stop=1, num=11)):\n",
    "        self.__VALORESOPTIMOS = []\n",
    "        self.__umbral = umbral\n",
    "        self.__pesos = pesos\n",
    "        self.__matriz = matriz\n",
    "\n",
    "    def __funcion_activacion(self, x):\n",
    "        valor = (math.pow( math.e, x) - math.pow(math.e,(-x)))/(math.pow(math.e, x) + math.pow(math.e,(-x)))\n",
    "        if valor < 0:\n",
    "            return 0\n",
    "        else:\n",
    "            return 1\n",
    "\n",
    "    def ejecucion(self):\n",
    "        for x in range(250):\n",
    "            pesoGlobal = []\n",
    "            umbralGlobal = []\n",
    "\n",
    "            resultados = []\n",
    "            resultadosZ = []\n",
    "\n",
    "            for i in range(0, 4):\n",
    "                z = self.__matriz[i][3]\n",
    "                index = np.random.randint(0, 21, 3)\n",
    "                indexUmbral = np.random.randint(0, 11, 1)\n",
    "\n",
    "                pesosFinal = self.__pesos[index]\n",
    "                umbralFinal = self.__umbral[indexUmbral]\n",
    "\n",
    "                pesoGlobal.append(pesosFinal)\n",
    "                umbralGlobal.append(umbralFinal)\n",
    "\n",
    "                acum = 0\n",
    "                for j in range(0, 3):\n",
    "                    acum = acum + ((pesosFinal[j] * self.__matriz[i][j]) - umbralFinal)\n",
    "                resultados.append(self.__funcion_activacion(acum))\n",
    "                resultadosZ.append(z)\n",
    "\n",
    "            MSE =  (math.pow(sum(np.array(resultados)-np.array(resultadosZ)), 2))/4\n",
    "            if MSE == 0:\n",
    "                self.__VALORESOPTIMOS.append(str({ \"MSE\": MSE, \"PESOS\": pesoGlobal, \"UMBRAL\": umbralGlobal}))\n",
    "\n",
    "        return self.__VALORESOPTIMOS\n"
   ]
  },
  {
   "cell_type": "markdown",
   "metadata": {
    "pycharm": {
     "name": "#%% md\n"
    }
   },
   "source": [
    "Abajo podemos ver los mejores resultados de la clase que hice arriba, estoy unicamente imprimiendo los que califican perfecto o sea de la mejor manera"
   ]
  },
  {
   "cell_type": "code",
   "execution_count": 485,
   "metadata": {
    "pycharm": {
     "name": "#%%\n"
    }
   },
   "outputs": [
    {
     "name": "stdout",
     "output_type": "stream",
     "text": [
      "====================================================\n",
      "{'MSE': 0.0, 'PESOS': [array([1. , 0.7, 1. ]), array([0.1, 0.7, 1. ]), array([-0.2,  0.5, -0.8]), array([ 0.7,  0.9, -0.7])], 'UMBRAL': [array([0.2]), array([1.]), array([0.1]), array([0.])]}\n",
      "====================================================\n",
      "{'MSE': 0.0, 'PESOS': [array([0.9, 0.9, 0.3]), array([-0.4,  1. , -0.2]), array([ 0.9, -0.4, -0.5]), array([-0.4,  0.5,  0.7])], 'UMBRAL': [array([0.1]), array([0.5]), array([0.1]), array([0.1])]}\n",
      "====================================================\n",
      "{'MSE': 0.0, 'PESOS': [array([ 0.7,  0.6, -0.6]), array([-0.1,  0. ,  1. ]), array([ 0.4,  0.3, -0.2]), array([-0.4,  0.5,  1. ])], 'UMBRAL': [array([0.1]), array([0.2]), array([0.2]), array([0.7])]}\n",
      "====================================================\n",
      "{'MSE': 0.0, 'PESOS': [array([ 0.7,  0.8, -0.3]), array([0. , 0.9, 0.2]), array([ 0.4,  0.5, -0.7]), array([ 1. ,  1. , -0.7])], 'UMBRAL': [array([0.2]), array([1.]), array([0.3]), array([0.3])]}\n"
     ]
    }
   ],
   "source": [
    "clasificador = CLASIFICADOR()\n",
    "result = clasificador.ejecucion()\n",
    "for x in result:\n",
    "    print(\"====================================================\")\n",
    "    print(x)"
   ]
  }
 ],
 "metadata": {
  "kernelspec": {
   "display_name": "Python 3",
   "language": "python",
   "name": "python3"
  },
  "language_info": {
   "codemirror_mode": {
    "name": "ipython",
    "version": 3
   },
   "file_extension": ".py",
   "mimetype": "text/x-python",
   "name": "python",
   "nbconvert_exporter": "python",
   "pygments_lexer": "ipython3",
   "version": "3.8.10"
  }
 },
 "nbformat": 4,
 "nbformat_minor": 1
}
