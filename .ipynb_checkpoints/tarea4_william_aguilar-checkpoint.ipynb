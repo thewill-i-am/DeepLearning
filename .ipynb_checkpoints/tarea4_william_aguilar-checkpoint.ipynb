{
 "cells": [
  {
   "cell_type": "code",
   "execution_count": 440,
   "metadata": {
    "collapsed": true
   },
   "outputs": [],
   "source": [
    "import os\n",
    "import pandas as pd\n",
    "import numpy as np\n",
    "import matplotlib.pyplot as plt\n",
    "from PIL import Image, ImageFilter\n",
    "from sklearn.model_selection import train_test_split\n",
    "from sklearn.metrics import confusion_matrix\n",
    "%matplotlib inline\n",
    "from sklearn.preprocessing import LabelEncoder\n",
    "from keras.layers import Conv2D, MaxPooling2D, Flatten, Dropout, Dense, Activation\n",
    "from keras import Sequential\n",
    "from tensorflow.keras.utils import to_categorical\n",
    "from tensorflow.keras.layers import LeakyReLU\n",
    "from tensorflow import keras\n",
    "from sklearn.preprocessing import StandardScaler\n",
    "from tensorflow.keras.layers import Dense, LSTM, SimpleRNN\n",
    "\n",
    "os.chdir(\"/home/william/Documents\")"
   ]
  },
  {
   "cell_type": "markdown",
   "metadata": {
    "pycharm": {
     "name": "#%% md\n"
    }
   },
   "source": [
    "Datos tomados de Yahoo, son especificamente del Manchester United"
   ]
  },
  {
   "cell_type": "code",
   "execution_count": 441,
   "metadata": {
    "pycharm": {
     "name": "#%%\n"
    }
   },
   "outputs": [],
   "source": [
    "dataset = pd.read_csv('MANU.csv',delimiter=\",\",decimal=\".\", index_col=0,parse_dates=['Date'])"
   ]
  },
  {
   "cell_type": "code",
   "execution_count": 442,
   "metadata": {
    "pycharm": {
     "name": "#%%\n"
    }
   },
   "outputs": [
    {
     "name": "stderr",
     "output_type": "stream",
     "text": [
      "<ipython-input-442-b13cad988305>:2: FutureWarning: Indexing a DataFrame with a datetimelike index using a single string to slice the rows, like `frame[string]`, is deprecated and will be removed in a future version. Use `frame.loc[string]` instead.\n",
      "  testing = dataset['2019'].iloc[:,1:2]\n"
     ]
    }
   ],
   "source": [
    "training = dataset['2015':'2018'].iloc[:,1:2]\n",
    "testing = dataset['2019'].iloc[:,1:2]"
   ]
  },
  {
   "cell_type": "code",
   "execution_count": 443,
   "metadata": {
    "pycharm": {
     "name": "#%%\n"
    }
   },
   "outputs": [
    {
     "data": {
      "text/html": [
       "<div>\n",
       "<style scoped>\n",
       "    .dataframe tbody tr th:only-of-type {\n",
       "        vertical-align: middle;\n",
       "    }\n",
       "\n",
       "    .dataframe tbody tr th {\n",
       "        vertical-align: top;\n",
       "    }\n",
       "\n",
       "    .dataframe thead th {\n",
       "        text-align: right;\n",
       "    }\n",
       "</style>\n",
       "<table border=\"1\" class=\"dataframe\">\n",
       "  <thead>\n",
       "    <tr style=\"text-align: right;\">\n",
       "      <th></th>\n",
       "      <th>High</th>\n",
       "    </tr>\n",
       "    <tr>\n",
       "      <th>Date</th>\n",
       "      <th></th>\n",
       "    </tr>\n",
       "  </thead>\n",
       "  <tbody>\n",
       "    <tr>\n",
       "      <th>2015-01-02</th>\n",
       "      <td>16.059999</td>\n",
       "    </tr>\n",
       "    <tr>\n",
       "      <th>2015-01-05</th>\n",
       "      <td>15.950000</td>\n",
       "    </tr>\n",
       "    <tr>\n",
       "      <th>2015-01-06</th>\n",
       "      <td>15.740000</td>\n",
       "    </tr>\n",
       "    <tr>\n",
       "      <th>2015-01-07</th>\n",
       "      <td>15.710000</td>\n",
       "    </tr>\n",
       "    <tr>\n",
       "      <th>2015-01-08</th>\n",
       "      <td>15.800000</td>\n",
       "    </tr>\n",
       "    <tr>\n",
       "      <th>...</th>\n",
       "      <td>...</td>\n",
       "    </tr>\n",
       "    <tr>\n",
       "      <th>2018-12-24</th>\n",
       "      <td>18.600000</td>\n",
       "    </tr>\n",
       "    <tr>\n",
       "      <th>2018-12-26</th>\n",
       "      <td>18.400000</td>\n",
       "    </tr>\n",
       "    <tr>\n",
       "      <th>2018-12-27</th>\n",
       "      <td>18.520000</td>\n",
       "    </tr>\n",
       "    <tr>\n",
       "      <th>2018-12-28</th>\n",
       "      <td>18.840000</td>\n",
       "    </tr>\n",
       "    <tr>\n",
       "      <th>2018-12-31</th>\n",
       "      <td>19.090000</td>\n",
       "    </tr>\n",
       "  </tbody>\n",
       "</table>\n",
       "<p>1006 rows × 1 columns</p>\n",
       "</div>"
      ],
      "text/plain": [
       "                 High\n",
       "Date                 \n",
       "2015-01-02  16.059999\n",
       "2015-01-05  15.950000\n",
       "2015-01-06  15.740000\n",
       "2015-01-07  15.710000\n",
       "2015-01-08  15.800000\n",
       "...               ...\n",
       "2018-12-24  18.600000\n",
       "2018-12-26  18.400000\n",
       "2018-12-27  18.520000\n",
       "2018-12-28  18.840000\n",
       "2018-12-31  19.090000\n",
       "\n",
       "[1006 rows x 1 columns]"
      ]
     },
     "execution_count": 443,
     "metadata": {},
     "output_type": "execute_result"
    }
   ],
   "source": [
    "training"
   ]
  },
  {
   "cell_type": "code",
   "execution_count": 444,
   "metadata": {
    "pycharm": {
     "name": "#%%\n"
    }
   },
   "outputs": [
    {
     "data": {
      "text/html": [
       "<div>\n",
       "<style scoped>\n",
       "    .dataframe tbody tr th:only-of-type {\n",
       "        vertical-align: middle;\n",
       "    }\n",
       "\n",
       "    .dataframe tbody tr th {\n",
       "        vertical-align: top;\n",
       "    }\n",
       "\n",
       "    .dataframe thead th {\n",
       "        text-align: right;\n",
       "    }\n",
       "</style>\n",
       "<table border=\"1\" class=\"dataframe\">\n",
       "  <thead>\n",
       "    <tr style=\"text-align: right;\">\n",
       "      <th></th>\n",
       "      <th>High</th>\n",
       "    </tr>\n",
       "    <tr>\n",
       "      <th>Date</th>\n",
       "      <th></th>\n",
       "    </tr>\n",
       "  </thead>\n",
       "  <tbody>\n",
       "    <tr>\n",
       "      <th>2019-01-02</th>\n",
       "      <td>18.820000</td>\n",
       "    </tr>\n",
       "    <tr>\n",
       "      <th>2019-01-03</th>\n",
       "      <td>18.690001</td>\n",
       "    </tr>\n",
       "    <tr>\n",
       "      <th>2019-01-04</th>\n",
       "      <td>19.040001</td>\n",
       "    </tr>\n",
       "    <tr>\n",
       "      <th>2019-01-07</th>\n",
       "      <td>19.559999</td>\n",
       "    </tr>\n",
       "    <tr>\n",
       "      <th>2019-01-08</th>\n",
       "      <td>19.549999</td>\n",
       "    </tr>\n",
       "    <tr>\n",
       "      <th>...</th>\n",
       "      <td>...</td>\n",
       "    </tr>\n",
       "    <tr>\n",
       "      <th>2019-12-24</th>\n",
       "      <td>19.820000</td>\n",
       "    </tr>\n",
       "    <tr>\n",
       "      <th>2019-12-26</th>\n",
       "      <td>19.639999</td>\n",
       "    </tr>\n",
       "    <tr>\n",
       "      <th>2019-12-27</th>\n",
       "      <td>19.860001</td>\n",
       "    </tr>\n",
       "    <tr>\n",
       "      <th>2019-12-30</th>\n",
       "      <td>19.980000</td>\n",
       "    </tr>\n",
       "    <tr>\n",
       "      <th>2019-12-31</th>\n",
       "      <td>20.000000</td>\n",
       "    </tr>\n",
       "  </tbody>\n",
       "</table>\n",
       "<p>252 rows × 1 columns</p>\n",
       "</div>"
      ],
      "text/plain": [
       "                 High\n",
       "Date                 \n",
       "2019-01-02  18.820000\n",
       "2019-01-03  18.690001\n",
       "2019-01-04  19.040001\n",
       "2019-01-07  19.559999\n",
       "2019-01-08  19.549999\n",
       "...               ...\n",
       "2019-12-24  19.820000\n",
       "2019-12-26  19.639999\n",
       "2019-12-27  19.860001\n",
       "2019-12-30  19.980000\n",
       "2019-12-31  20.000000\n",
       "\n",
       "[252 rows x 1 columns]"
      ]
     },
     "execution_count": 444,
     "metadata": {},
     "output_type": "execute_result"
    }
   ],
   "source": [
    "testing"
   ]
  },
  {
   "cell_type": "code",
   "execution_count": 445,
   "metadata": {
    "pycharm": {
     "name": "#%%\n"
    }
   },
   "outputs": [
    {
     "name": "stdout",
     "output_type": "stream",
     "text": [
      "Datos sin estandarizar:\n",
      "\n",
      "                  High\n",
      "Date                 \n",
      "2015-01-02  16.059999\n",
      "2015-01-05  15.950000\n",
      "2015-01-06  15.740000\n",
      "2015-01-07  15.710000\n",
      "2015-01-08  15.800000\n",
      "...               ...\n",
      "2018-12-24  18.600000\n",
      "2018-12-26  18.400000\n",
      "2018-12-27  18.520000\n",
      "2018-12-28  18.840000\n",
      "2018-12-31  19.090000\n",
      "\n",
      "[1006 rows x 1 columns]\n"
     ]
    }
   ],
   "source": [
    "print(\"Datos sin estandarizar:\\n\\n\",training)\n",
    "#escalamos los datos\n",
    "scaler = StandardScaler()\n",
    "sc_training = scaler.fit_transform(training)"
   ]
  },
  {
   "cell_type": "code",
   "execution_count": 446,
   "metadata": {
    "pycharm": {
     "name": "#%%\n"
    }
   },
   "outputs": [
    {
     "name": "stdout",
     "output_type": "stream",
     "text": [
      "Secuencia 1:\n",
      " [-0.7911129  -0.83785323 -0.92708559 -0.93983307 -0.90159063]\n",
      "\n",
      "Secuencia 2:\n",
      " [-0.83785323 -0.92708559 -0.93983307 -0.90159063 -0.95258055]\n"
     ]
    }
   ],
   "source": [
    "time_step = 5\n",
    "X_train = []\n",
    "Y_train = []\n",
    "m = len(sc_training)\n",
    "for i in range(time_step,m):\n",
    "    # X: bloques de \"time_step\" datos: 0->time_step, 1->time_step+1, 2->time_step+2, etc\n",
    "    #print(\"i-time_step: \", i-time_step)\n",
    "    #print(\"i:\",i)\n",
    "    X_train.append(sc_training[i-time_step:i,0])\n",
    "    Y_train.append(sc_training[i,0])\n",
    "X_train, Y_train = np.array(X_train), np.array(Y_train)\n",
    "print(\"Secuencia 1:\\n\",X_train[0][:])\n",
    "print(\"\\nSecuencia 2:\\n\",X_train[1][:])"
   ]
  },
  {
   "cell_type": "code",
   "execution_count": 447,
   "metadata": {
    "pycharm": {
     "name": "#%%\n"
    }
   },
   "outputs": [
    {
     "name": "stdout",
     "output_type": "stream",
     "text": [
      "X_train.shape (1001, 5, 1)\n",
      "X_test.shape (247, 5, 1)\n",
      "\n",
      " [[-0.7911129 ]\n",
      " [-0.83785323]\n",
      " [-0.92708559]\n",
      " [-0.93983307]\n",
      " [-0.90159063]]\n"
     ]
    }
   ],
   "source": [
    "#set de testing normalizamos los datos\n",
    "x_test = testing.values\n",
    "x_test = scaler.transform(x_test)\n",
    "\n",
    "\n",
    "X_test = []\n",
    "for i in range(time_step,len(x_test)):\n",
    "    X_test.append(x_test[i-time_step:i,0])\n",
    "\n",
    "X_test = np.array(X_test)\n",
    "X_test = np.reshape(X_test, (X_test.shape[0],X_test.shape[1],1))\n",
    "\n",
    "X_train = np.reshape(X_train, (X_train.shape[0], X_train.shape[1], 1))\n",
    "\n",
    "print(\"X_train.shape\", X_train.shape)\n",
    "print(\"X_test.shape\", X_test.shape)\n",
    "print(\"\\n\",X_train[0])"
   ]
  },
  {
   "cell_type": "code",
   "execution_count": 448,
   "metadata": {
    "pycharm": {
     "name": "#%%\n"
    }
   },
   "outputs": [
    {
     "name": "stdout",
     "output_type": "stream",
     "text": [
      "Model: \"sequential_39\"\n",
      "_________________________________________________________________\n",
      "Layer (type)                 Output Shape              Param #   \n",
      "=================================================================\n",
      "lstm_35 (LSTM)               (None, 124)               62496     \n",
      "_________________________________________________________________\n",
      "dense_54 (Dense)             (None, 62)                7750      \n",
      "_________________________________________________________________\n",
      "dense_55 (Dense)             (None, 1)                 63        \n",
      "=================================================================\n",
      "Total params: 70,309\n",
      "Trainable params: 70,309\n",
      "Non-trainable params: 0\n",
      "_________________________________________________________________\n"
     ]
    }
   ],
   "source": [
    "from keras.layers import LSTM\n",
    "\n",
    "dim_entrada = (X_train.shape[1],1)\n",
    "\n",
    "modelo = Sequential()\n",
    "\n",
    "modelo.add(LSTM(units=124, input_shape=dim_entrada))\n",
    "modelo.add(Dense(units=62, activation='sigmoid'))\n",
    "modelo.add(Dense(units=1, activation='relu'))\n",
    "\n",
    "modelo.compile(optimizer='adam', loss='mse')\n",
    "\n",
    "#resumen del modelo\n",
    "modelo.summary()"
   ]
  },
  {
   "cell_type": "code",
   "execution_count": 449,
   "metadata": {
    "pycharm": {
     "name": "#%%\n"
    }
   },
   "outputs": [
    {
     "data": {
      "text/plain": [
       "<keras.callbacks.History at 0x7f92abcc0fd0>"
      ]
     },
     "execution_count": 449,
     "metadata": {},
     "output_type": "execute_result"
    }
   ],
   "source": [
    "modelo.fit(X_train,Y_train,epochs=32,batch_size=500, verbose = 0)"
   ]
  },
  {
   "cell_type": "code",
   "execution_count": 450,
   "metadata": {
    "pycharm": {
     "name": "#%%\n"
    }
   },
   "outputs": [],
   "source": [
    "prediccion = modelo.predict(X_test)\n",
    "# aplicamos la normalización inversa de dicha predicción\n",
    "prediccion = scaler.inverse_transform(prediccion)"
   ]
  },
  {
   "cell_type": "markdown",
   "metadata": {},
   "source": [
    "Se puede ver claramente que la linea verde es sumamente similar, me parece interesante que donde mas se equivoque es en el inicio de la pandemia, y tiene sentido por que eso es algo sumamente impredecible y hasta aletorio."
   ]
  },
  {
   "cell_type": "code",
   "execution_count": 451,
   "metadata": {
    "pycharm": {
     "name": "#%%\n"
    }
   },
   "outputs": [
    {
     "data": {
      "text/plain": [
       "<matplotlib.legend.Legend at 0x7f92aa9bd250>"
      ]
     },
     "execution_count": 451,
     "metadata": {},
     "output_type": "execute_result"
    },
    {
     "data": {
      "image/png": "[encoded data removed]",
      "text/plain": [
       "<Figure size 900x600 with 1 Axes>"
      ]
     },
     "metadata": {
      "needs_background": "light"
     },
     "output_type": "display_data"
    }
   ],
   "source": [
    "#Gráfico\n",
    "fig, ax = plt.subplots(1,1, figsize = (6,4), dpi = 150)\n",
    "\n",
    "plt.plot(training.index, training.values, label = \" Training\")\n",
    "plt.plot(testing.index, testing.values, label = \" Testing\")\n",
    "plt.plot(testing.index[0:len(X_test)], prediccion, label = \"Prediccion\")\n",
    "plt.legend()"
   ]
  },
  {
   "cell_type": "code",
   "execution_count": 452,
   "metadata": {
    "pycharm": {
     "name": "#%%\n"
    }
   },
   "outputs": [
    {
     "data": {
      "text/plain": [
       "'αβγδεζηθικλμνξøπρστυφχψω'"
      ]
     },
     "execution_count": 452,
     "metadata": {},
     "output_type": "execute_result"
    }
   ],
   "source": [
    "alfabetoGriego = \"αβγδεζηθικλμνξøπρστυφχψω\"\n",
    "alfabetoGriego"
   ]
  },
  {
   "cell_type": "code",
   "execution_count": 453,
   "metadata": {
    "pycharm": {
     "name": "#%%\n"
    }
   },
   "outputs": [
    {
     "name": "stdout",
     "output_type": "stream",
     "text": [
      "char_to_int:\n",
      " {'α': 0, 'β': 1, 'γ': 2, 'δ': 3, 'ε': 4, 'ζ': 5, 'η': 6, 'θ': 7, 'ι': 8, 'κ': 9, 'λ': 10, 'μ': 11, 'ν': 12, 'ξ': 13, 'ø': 14, 'π': 15, 'ρ': 16, 'σ': 17, 'τ': 18, 'υ': 19, 'φ': 20, 'χ': 21, 'ψ': 22, 'ω': 23} \n",
      "\n",
      "int_to_char:\n",
      " {0: 'α', 1: 'β', 2: 'γ', 3: 'δ', 4: 'ε', 5: 'ζ', 6: 'η', 7: 'θ', 8: 'ι', 9: 'κ', 10: 'λ', 11: 'μ', 12: 'ν', 13: 'ξ', 14: 'ø', 15: 'π', 16: 'ρ', 17: 'σ', 18: 'τ', 19: 'υ', 20: 'φ', 21: 'χ', 22: 'ψ', 23: 'ω'}\n"
     ]
    }
   ],
   "source": [
    "# crear mapeo de caracteres a números enteros (0-25) y viceversa\n",
    "char_to_int = dict((c, i) for i, c in enumerate(alfabetoGriego))\n",
    "int_to_char = dict((i, c) for i, c in enumerate(alfabetoGriego))\n",
    "\n",
    "print(\"char_to_int:\\n\",char_to_int,\"\\n\")\n",
    "print(\"int_to_char:\\n\",int_to_char)"
   ]
  },
  {
   "cell_type": "code",
   "execution_count": 454,
   "metadata": {
    "pycharm": {
     "name": "#%%\n"
    }
   },
   "outputs": [
    {
     "name": "stdout",
     "output_type": "stream",
     "text": [
      "α -> β\n",
      "β -> γ\n",
      "γ -> δ\n",
      "δ -> ε\n",
      "ε -> ζ\n",
      "ζ -> η\n",
      "η -> θ\n",
      "θ -> ι\n",
      "ι -> κ\n",
      "κ -> λ\n",
      "λ -> μ\n",
      "μ -> ν\n",
      "ν -> ξ\n",
      "ξ -> ø\n",
      "ø -> π\n",
      "π -> ρ\n",
      "ρ -> σ\n",
      "σ -> τ\n",
      "τ -> υ\n",
      "υ -> φ\n",
      "φ -> χ\n",
      "χ -> ψ\n",
      "ψ -> ω\n"
     ]
    }
   ],
   "source": [
    "# creamos nuestros pares de entrada y salida para entrenar nuestra red neuronal\n",
    "#seq_length = 2\n",
    "seq_length = 1\n",
    "dataX = []\n",
    "dataY = []\n",
    "\n",
    "for i in range(0, len(alfabetoGriego) - seq_length):\n",
    "    seq_in = alfabetoGriego[i:i + seq_length]\n",
    "    seq_out = alfabetoGriego[i + seq_length]\n",
    "    dataX.append([char_to_int[char] for char in seq_in])\n",
    "    dataY.append(char_to_int[seq_out])\n",
    "    print(seq_in, '->', seq_out)"
   ]
  },
  {
   "cell_type": "code",
   "execution_count": 455,
   "metadata": {
    "pycharm": {
     "name": "#%%\n"
    }
   },
   "outputs": [
    {
     "name": "stdout",
     "output_type": "stream",
     "text": [
      "Shape:  (23, 1, 1)\n",
      "[[[ 0]]\n",
      "\n",
      " [[ 1]]\n",
      "\n",
      " [[ 2]]\n",
      "\n",
      " [[ 3]]\n",
      "\n",
      " [[ 4]]\n",
      "\n",
      " [[ 5]]\n",
      "\n",
      " [[ 6]]\n",
      "\n",
      " [[ 7]]\n",
      "\n",
      " [[ 8]]\n",
      "\n",
      " [[ 9]]\n",
      "\n",
      " [[10]]\n",
      "\n",
      " [[11]]\n",
      "\n",
      " [[12]]\n",
      "\n",
      " [[13]]\n",
      "\n",
      " [[14]]\n",
      "\n",
      " [[15]]\n",
      "\n",
      " [[16]]\n",
      "\n",
      " [[17]]\n",
      "\n",
      " [[18]]\n",
      "\n",
      " [[19]]\n",
      "\n",
      " [[20]]\n",
      "\n",
      " [[21]]\n",
      "\n",
      " [[22]]]\n"
     ]
    }
   ],
   "source": [
    "X = np.reshape(dataX, (len(dataX), seq_length, 1))\n",
    "print(\"Shape: \", X.shape)\n",
    "print(X)"
   ]
  },
  {
   "cell_type": "code",
   "execution_count": 456,
   "metadata": {
    "pycharm": {
     "name": "#%%\n"
    }
   },
   "outputs": [
    {
     "data": {
      "text/plain": [
       "array([[[0.        ]],\n",
       "\n",
       "       [[0.04166667]],\n",
       "\n",
       "       [[0.08333333]],\n",
       "\n",
       "       [[0.125     ]],\n",
       "\n",
       "       [[0.16666667]],\n",
       "\n",
       "       [[0.20833333]],\n",
       "\n",
       "       [[0.25      ]],\n",
       "\n",
       "       [[0.29166667]],\n",
       "\n",
       "       [[0.33333333]],\n",
       "\n",
       "       [[0.375     ]],\n",
       "\n",
       "       [[0.41666667]],\n",
       "\n",
       "       [[0.45833333]],\n",
       "\n",
       "       [[0.5       ]],\n",
       "\n",
       "       [[0.54166667]],\n",
       "\n",
       "       [[0.58333333]],\n",
       "\n",
       "       [[0.625     ]],\n",
       "\n",
       "       [[0.66666667]],\n",
       "\n",
       "       [[0.70833333]],\n",
       "\n",
       "       [[0.75      ]],\n",
       "\n",
       "       [[0.79166667]],\n",
       "\n",
       "       [[0.83333333]],\n",
       "\n",
       "       [[0.875     ]],\n",
       "\n",
       "       [[0.91666667]]])"
      ]
     },
     "execution_count": 456,
     "metadata": {},
     "output_type": "execute_result"
    }
   ],
   "source": [
    "X = X / float(len(alfabetoGriego))\n",
    "X"
   ]
  },
  {
   "cell_type": "code",
   "execution_count": 457,
   "metadata": {
    "pycharm": {
     "name": "#%%\n"
    }
   },
   "outputs": [
    {
     "name": "stdout",
     "output_type": "stream",
     "text": [
      "[[0. 1. 0. 0. 0. 0. 0. 0. 0. 0. 0. 0. 0. 0. 0. 0. 0. 0. 0. 0. 0. 0. 0. 0.]\n",
      " [0. 0. 1. 0. 0. 0. 0. 0. 0. 0. 0. 0. 0. 0. 0. 0. 0. 0. 0. 0. 0. 0. 0. 0.]\n",
      " [0. 0. 0. 1. 0. 0. 0. 0. 0. 0. 0. 0. 0. 0. 0. 0. 0. 0. 0. 0. 0. 0. 0. 0.]\n",
      " [0. 0. 0. 0. 1. 0. 0. 0. 0. 0. 0. 0. 0. 0. 0. 0. 0. 0. 0. 0. 0. 0. 0. 0.]\n",
      " [0. 0. 0. 0. 0. 1. 0. 0. 0. 0. 0. 0. 0. 0. 0. 0. 0. 0. 0. 0. 0. 0. 0. 0.]]\n"
     ]
    }
   ],
   "source": [
    "y = to_categorical(dataY)\n",
    "print(y[0:5])"
   ]
  },
  {
   "cell_type": "code",
   "execution_count": 458,
   "metadata": {
    "pycharm": {
     "name": "#%%\n"
    }
   },
   "outputs": [
    {
     "data": {
      "text/plain": [
       "<keras.callbacks.History at 0x7f92abba4370>"
      ]
     },
     "execution_count": 458,
     "metadata": {},
     "output_type": "execute_result"
    }
   ],
   "source": [
    "modelo = Sequential()\n",
    "\n",
    "input_shape = (X.shape[1], X.shape[2])\n",
    "modelo.add(keras.layers.LSTM(units=50, input_shape=input_shape))\n",
    "modelo.add(keras.layers.Dense(units=20, activation='relu'))\n",
    "modelo.add(keras.layers.Dense(units=y.shape[1], activation='softmax'))\n",
    "\n",
    "modelo.compile(optimizer='RMSProp',\n",
    "                loss='categorical_crossentropy',\n",
    "                metrics=['accuracy'])\n",
    "modelo.fit(X, y, epochs=500, batch_size=1, verbose=0)"
   ]
  },
  {
   "cell_type": "code",
   "execution_count": 459,
   "metadata": {
    "pycharm": {
     "name": "#%%\n"
    }
   },
   "outputs": [
    {
     "name": "stdout",
     "output_type": "stream",
     "text": [
      "Model: \"sequential_40\"\n",
      "_________________________________________________________________\n",
      "Layer (type)                 Output Shape              Param #   \n",
      "=================================================================\n",
      "lstm_36 (LSTM)               (None, 50)                10400     \n",
      "_________________________________________________________________\n",
      "dense_56 (Dense)             (None, 20)                1020      \n",
      "_________________________________________________________________\n",
      "dense_57 (Dense)             (None, 24)                504       \n",
      "=================================================================\n",
      "Total params: 11,924\n",
      "Trainable params: 11,924\n",
      "Non-trainable params: 0\n",
      "_________________________________________________________________\n"
     ]
    }
   ],
   "source": [
    "modelo.summary()"
   ]
  },
  {
   "cell_type": "code",
   "execution_count": 460,
   "metadata": {
    "pycharm": {
     "name": "#%%\n"
    }
   },
   "outputs": [
    {
     "data": {
      "text/plain": [
       "array([ 1,  2,  3,  4,  5,  6,  7,  8,  9, 10, 11, 12, 13, 14, 15, 16, 17,\n",
       "       18, 19, 20, 21, 23, 23])"
      ]
     },
     "execution_count": 460,
     "metadata": {},
     "output_type": "execute_result"
    }
   ],
   "source": [
    "modelo_pred = modelo.predict(X,verbose=0)\n",
    "rnn_modelo_predicted = np.argmax(modelo_pred, axis=1)\n",
    "rnn_modelo_predicted"
   ]
  },
  {
   "cell_type": "code",
   "execution_count": 461,
   "metadata": {
    "pycharm": {
     "name": "#%%\n"
    }
   },
   "outputs": [
    {
     "name": "stdout",
     "output_type": "stream",
     "text": [
      "['α'] -> β\n",
      "['β'] -> γ\n",
      "['γ'] -> δ\n",
      "['δ'] -> ε\n",
      "['ε'] -> ζ\n",
      "['ζ'] -> η\n",
      "['η'] -> θ\n",
      "['θ'] -> ι\n",
      "['ι'] -> κ\n",
      "['κ'] -> λ\n",
      "['λ'] -> μ\n",
      "['μ'] -> ν\n",
      "['ν'] -> ξ\n",
      "['ξ'] -> ø\n",
      "['ø'] -> π\n",
      "['π'] -> ρ\n",
      "['ρ'] -> σ\n",
      "['σ'] -> τ\n",
      "['τ'] -> υ\n",
      "['υ'] -> φ\n",
      "['φ'] -> χ\n",
      "['χ'] -> ω\n",
      "['ψ'] -> ω\n"
     ]
    }
   ],
   "source": [
    "for pattern in dataX:\n",
    "    x = np.reshape(pattern, (1, len(pattern), 1))\n",
    "    x = x / float(len(alfabetoGriego))\n",
    "    prediction = modelo.predict(x, verbose=0)\n",
    "    index = np.argmax(prediction)\n",
    "    result = int_to_char[index]\n",
    "    seq_in = [int_to_char[value] for value in pattern]\n",
    "    print(seq_in, \"->\", result)"
   ]
  },
  {
   "cell_type": "code",
   "execution_count": 462,
   "metadata": {
    "pycharm": {
     "name": "#%%\n"
    }
   },
   "outputs": [
    {
     "name": "stdout",
     "output_type": "stream",
     "text": [
      "[1 0 0 0 0 0 0 0 0 0 0 0 0 0 0 0 0 0 0 0 0 0 0]\n",
      "[0 1 0 0 0 0 0 0 0 0 0 0 0 0 0 0 0 0 0 0 0 0 0]\n",
      "[0 0 1 0 0 0 0 0 0 0 0 0 0 0 0 0 0 0 0 0 0 0 0]\n",
      "[0 0 0 1 0 0 0 0 0 0 0 0 0 0 0 0 0 0 0 0 0 0 0]\n",
      "[0 0 0 0 1 0 0 0 0 0 0 0 0 0 0 0 0 0 0 0 0 0 0]\n",
      "[0 0 0 0 0 1 0 0 0 0 0 0 0 0 0 0 0 0 0 0 0 0 0]\n",
      "[0 0 0 0 0 0 1 0 0 0 0 0 0 0 0 0 0 0 0 0 0 0 0]\n",
      "[0 0 0 0 0 0 0 1 0 0 0 0 0 0 0 0 0 0 0 0 0 0 0]\n",
      "[0 0 0 0 0 0 0 0 1 0 0 0 0 0 0 0 0 0 0 0 0 0 0]\n",
      "[0 0 0 0 0 0 0 0 0 1 0 0 0 0 0 0 0 0 0 0 0 0 0]\n",
      "[0 0 0 0 0 0 0 0 0 0 1 0 0 0 0 0 0 0 0 0 0 0 0]\n",
      "[0 0 0 0 0 0 0 0 0 0 0 1 0 0 0 0 0 0 0 0 0 0 0]\n",
      "[0 0 0 0 0 0 0 0 0 0 0 0 1 0 0 0 0 0 0 0 0 0 0]\n",
      "[0 0 0 0 0 0 0 0 0 0 0 0 0 1 0 0 0 0 0 0 0 0 0]\n",
      "[0 0 0 0 0 0 0 0 0 0 0 0 0 0 1 0 0 0 0 0 0 0 0]\n",
      "[0 0 0 0 0 0 0 0 0 0 0 0 0 0 0 1 0 0 0 0 0 0 0]\n",
      "[0 0 0 0 0 0 0 0 0 0 0 0 0 0 0 0 1 0 0 0 0 0 0]\n",
      "[0 0 0 0 0 0 0 0 0 0 0 0 0 0 0 0 0 1 0 0 0 0 0]\n",
      "[0 0 0 0 0 0 0 0 0 0 0 0 0 0 0 0 0 0 1 0 0 0 0]\n",
      "[0 0 0 0 0 0 0 0 0 0 0 0 0 0 0 0 0 0 0 1 0 0 0]\n",
      "[0 0 0 0 0 0 0 0 0 0 0 0 0 0 0 0 0 0 0 0 1 0 0]\n",
      "[0 0 0 0 0 0 0 0 0 0 0 0 0 0 0 0 0 0 0 0 0 0 1]\n",
      "[0 0 0 0 0 0 0 0 0 0 0 0 0 0 0 0 0 0 0 0 0 0 1]\n"
     ]
    }
   ],
   "source": [
    "from sklearn.metrics import confusion_matrix\n",
    "\n",
    "mc = confusion_matrix(np.argmax(y, axis=1), rnn_modelo_predicted)\n",
    "for l in range(len(mc)):\n",
    "    print(mc[l])\n"
   ]
  },
  {
   "cell_type": "markdown",
   "metadata": {},
   "source": [
    "Tiene una precision demasiado buena mayor a un 90%"
   ]
  },
  {
   "cell_type": "code",
   "execution_count": 463,
   "metadata": {
    "pycharm": {
     "name": "#%%\n"
    }
   },
   "outputs": [
    {
     "name": "stdout",
     "output_type": "stream",
     "text": [
      "La precision es:: 95.65%\n"
     ]
    }
   ],
   "source": [
    "loss, acu = modelo.evaluate(X, keras.utils.to_categorical(np.argmax(y, axis=1)), verbose=0)\n",
    "print('La precision es:: ' + str(np.round(acu*100, 2)) + '%')"
   ]
  },
  {
   "cell_type": "code",
   "execution_count": 464,
   "metadata": {
    "pycharm": {
     "name": "#%%\n"
    }
   },
   "outputs": [
    {
     "name": "stdout",
     "output_type": "stream",
     "text": [
      "Model: \"sequential_41\"\n",
      "_________________________________________________________________\n",
      "Layer (type)                 Output Shape              Param #   \n",
      "=================================================================\n",
      "lstm_37 (LSTM)               (None, 50)                10400     \n",
      "_________________________________________________________________\n",
      "dense_58 (Dense)             (None, 20)                1020      \n",
      "_________________________________________________________________\n",
      "dense_59 (Dense)             (None, 24)                504       \n",
      "=================================================================\n",
      "Total params: 11,924\n",
      "Trainable params: 11,924\n",
      "Non-trainable params: 0\n",
      "_________________________________________________________________\n"
     ]
    }
   ],
   "source": [
    "modeloAdam = keras.models.Sequential()\n",
    "\n",
    "input_shape = (X.shape[1], X.shape[2])\n",
    "\n",
    "modeloAdam.add(keras.layers.LSTM(units=50, input_shape=input_shape))\n",
    "modeloAdam.add(keras.layers.Dense(units=20, activation='relu'))\n",
    "modeloAdam.add(keras.layers.Dense(units=y.shape[1], activation='softmax'))\n",
    "\n",
    "modeloAdam.summary()"
   ]
  },
  {
   "cell_type": "code",
   "execution_count": 465,
   "metadata": {
    "pycharm": {
     "name": "#%%\n"
    }
   },
   "outputs": [],
   "source": [
    "modeloAdam.compile(optimizer='adam',\n",
    "                loss='categorical_crossentropy',\n",
    "                metrics=['accuracy'])"
   ]
  },
  {
   "cell_type": "code",
   "execution_count": null,
   "metadata": {
    "pycharm": {
     "is_executing": true,
     "name": "#%%\n"
    }
   },
   "outputs": [],
   "source": [
    "modeloAdam.fit(X, y, epochs=500, batch_size=1, verbose=0)"
   ]
  },
  {
   "cell_type": "code",
   "execution_count": null,
   "metadata": {
    "pycharm": {
     "is_executing": true,
     "name": "#%%\n"
    }
   },
   "outputs": [],
   "source": [
    "predict2 = modeloAdam.predict(X,verbose=0)\n",
    "predict2 = np.argmax(predict2, axis=1)\n",
    "predict2"
   ]
  },
  {
   "cell_type": "code",
   "execution_count": null,
   "metadata": {
    "pycharm": {
     "is_executing": true,
     "name": "#%%\n"
    }
   },
   "outputs": [],
   "source": [
    "mc2 = confusion_matrix(np.argmax(y, axis=1), predict2)\n",
    "for l in range(len(mc2)):\n",
    "  print(mc2[l])"
   ]
  },
  {
   "cell_type": "markdown",
   "metadata": {
    "pycharm": {
     "name": "#%% md\n"
    }
   },
   "source": [
    "Aunque el anterior fue buenisimo este se puede ver que tiene una precision casi perfecta el de ADAM"
   ]
  },
  {
   "cell_type": "code",
   "execution_count": null,
   "metadata": {
    "pycharm": {
     "is_executing": true,
     "name": "#%%\n"
    }
   },
   "outputs": [],
   "source": [
    "loss, acu = modeloAdam.evaluate(X, keras.utils.to_categorical(np.argmax(y, axis=1)), verbose=0)\n",
    "print('la precision es:: ' + str(np.round(acu*100, 2)) + '%')"
   ]
  }
 ],
 "metadata": {
  "kernelspec": {
   "display_name": "Python 3",
   "language": "python",
   "name": "python3"
  },
  "language_info": {
   "codemirror_mode": {
    "name": "ipython",
    "version": 3
   },
   "file_extension": ".py",
   "mimetype": "text/x-python",
   "name": "python",
   "nbconvert_exporter": "python",
   "pygments_lexer": "ipython3",
   "version": "3.8.10"
  }
 },
 "nbformat": 4,
 "nbformat_minor": 1
}
