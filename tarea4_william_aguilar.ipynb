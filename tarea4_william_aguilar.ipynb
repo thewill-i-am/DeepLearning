{
 "cells": [
  {
   "cell_type": "code",
   "execution_count": 498,
   "metadata": {
    "collapsed": true
   },
   "outputs": [],
   "source": [
    "import os\n",
    "import pandas as pd\n",
    "import numpy as np\n",
    "import matplotlib.pyplot as plt\n",
    "from PIL import Image, ImageFilter\n",
    "from sklearn.model_selection import train_test_split\n",
    "from sklearn.metrics import confusion_matrix\n",
    "%matplotlib inline\n",
    "from sklearn.preprocessing import LabelEncoder\n",
    "from keras.layers import Conv2D, MaxPooling2D, Flatten, Dropout, Dense, Activation\n",
    "from keras import Sequential\n",
    "from tensorflow.keras.utils import to_categorical\n",
    "from tensorflow.keras.layers import LeakyReLU\n",
    "from tensorflow import keras\n",
    "from sklearn.preprocessing import StandardScaler\n",
    "\n",
    "os.chdir(\"/home/william/Documents\")"
   ]
  },
  {
   "cell_type": "code",
   "execution_count": 499,
   "outputs": [],
   "source": [
    "dataset = pd.read_csv('MANU.csv',delimiter=\",\",decimal=\".\", index_col=0,parse_dates=['Date'])"
   ],
   "metadata": {
    "collapsed": false,
    "pycharm": {
     "name": "#%%\n"
    }
   }
  },
  {
   "cell_type": "code",
   "execution_count": 500,
   "outputs": [
    {
     "name": "stderr",
     "output_type": "stream",
     "text": [
      "<ipython-input-500-00bdae0cbc6c>:2: FutureWarning: Indexing a DataFrame with a datetimelike index using a single string to slice the rows, like `frame[string]`, is deprecated and will be removed in a future version. Use `frame.loc[string]` instead.\n",
      "  testing = dataset['2019'].iloc[:,1:2]\n"
     ]
    }
   ],
   "source": [
    "training = dataset['2015':'2018'].iloc[:,1:2]\n",
    "testing = dataset['2019'].iloc[:,1:2]"
   ],
   "metadata": {
    "collapsed": false,
    "pycharm": {
     "name": "#%%\n"
    }
   }
  },
  {
   "cell_type": "code",
   "execution_count": 501,
   "outputs": [
    {
     "data": {
      "text/plain": "                 High\nDate                 \n2015-01-02  16.059999\n2015-01-05  15.950000\n2015-01-06  15.740000\n2015-01-07  15.710000\n2015-01-08  15.800000\n...               ...\n2018-12-24  18.600000\n2018-12-26  18.400000\n2018-12-27  18.520000\n2018-12-28  18.840000\n2018-12-31  19.090000\n\n[1006 rows x 1 columns]",
      "text/html": "<div>\n<style scoped>\n    .dataframe tbody tr th:only-of-type {\n        vertical-align: middle;\n    }\n\n    .dataframe tbody tr th {\n        vertical-align: top;\n    }\n\n    .dataframe thead th {\n        text-align: right;\n    }\n</style>\n<table border=\"1\" class=\"dataframe\">\n  <thead>\n    <tr style=\"text-align: right;\">\n      <th></th>\n      <th>High</th>\n    </tr>\n    <tr>\n      <th>Date</th>\n      <th></th>\n    </tr>\n  </thead>\n  <tbody>\n    <tr>\n      <th>2015-01-02</th>\n      <td>16.059999</td>\n    </tr>\n    <tr>\n      <th>2015-01-05</th>\n      <td>15.950000</td>\n    </tr>\n    <tr>\n      <th>2015-01-06</th>\n      <td>15.740000</td>\n    </tr>\n    <tr>\n      <th>2015-01-07</th>\n      <td>15.710000</td>\n    </tr>\n    <tr>\n      <th>2015-01-08</th>\n      <td>15.800000</td>\n    </tr>\n    <tr>\n      <th>...</th>\n      <td>...</td>\n    </tr>\n    <tr>\n      <th>2018-12-24</th>\n      <td>18.600000</td>\n    </tr>\n    <tr>\n      <th>2018-12-26</th>\n      <td>18.400000</td>\n    </tr>\n    <tr>\n      <th>2018-12-27</th>\n      <td>18.520000</td>\n    </tr>\n    <tr>\n      <th>2018-12-28</th>\n      <td>18.840000</td>\n    </tr>\n    <tr>\n      <th>2018-12-31</th>\n      <td>19.090000</td>\n    </tr>\n  </tbody>\n</table>\n<p>1006 rows × 1 columns</p>\n</div>"
     },
     "execution_count": 501,
     "metadata": {},
     "output_type": "execute_result"
    }
   ],
   "source": [
    "training"
   ],
   "metadata": {
    "collapsed": false,
    "pycharm": {
     "name": "#%%\n"
    }
   }
  },
  {
   "cell_type": "code",
   "execution_count": 502,
   "outputs": [
    {
     "data": {
      "text/plain": "                 High\nDate                 \n2019-01-02  18.820000\n2019-01-03  18.690001\n2019-01-04  19.040001\n2019-01-07  19.559999\n2019-01-08  19.549999\n...               ...\n2019-12-24  19.820000\n2019-12-26  19.639999\n2019-12-27  19.860001\n2019-12-30  19.980000\n2019-12-31  20.000000\n\n[252 rows x 1 columns]",
      "text/html": "<div>\n<style scoped>\n    .dataframe tbody tr th:only-of-type {\n        vertical-align: middle;\n    }\n\n    .dataframe tbody tr th {\n        vertical-align: top;\n    }\n\n    .dataframe thead th {\n        text-align: right;\n    }\n</style>\n<table border=\"1\" class=\"dataframe\">\n  <thead>\n    <tr style=\"text-align: right;\">\n      <th></th>\n      <th>High</th>\n    </tr>\n    <tr>\n      <th>Date</th>\n      <th></th>\n    </tr>\n  </thead>\n  <tbody>\n    <tr>\n      <th>2019-01-02</th>\n      <td>18.820000</td>\n    </tr>\n    <tr>\n      <th>2019-01-03</th>\n      <td>18.690001</td>\n    </tr>\n    <tr>\n      <th>2019-01-04</th>\n      <td>19.040001</td>\n    </tr>\n    <tr>\n      <th>2019-01-07</th>\n      <td>19.559999</td>\n    </tr>\n    <tr>\n      <th>2019-01-08</th>\n      <td>19.549999</td>\n    </tr>\n    <tr>\n      <th>...</th>\n      <td>...</td>\n    </tr>\n    <tr>\n      <th>2019-12-24</th>\n      <td>19.820000</td>\n    </tr>\n    <tr>\n      <th>2019-12-26</th>\n      <td>19.639999</td>\n    </tr>\n    <tr>\n      <th>2019-12-27</th>\n      <td>19.860001</td>\n    </tr>\n    <tr>\n      <th>2019-12-30</th>\n      <td>19.980000</td>\n    </tr>\n    <tr>\n      <th>2019-12-31</th>\n      <td>20.000000</td>\n    </tr>\n  </tbody>\n</table>\n<p>252 rows × 1 columns</p>\n</div>"
     },
     "execution_count": 502,
     "metadata": {},
     "output_type": "execute_result"
    }
   ],
   "source": [
    "testing"
   ],
   "metadata": {
    "collapsed": false,
    "pycharm": {
     "name": "#%%\n"
    }
   }
  },
  {
   "cell_type": "code",
   "execution_count": 503,
   "outputs": [
    {
     "name": "stdout",
     "output_type": "stream",
     "text": [
      "Datos sin estandarizar:\n",
      "\n",
      "                  High\n",
      "Date                 \n",
      "2015-01-02  16.059999\n",
      "2015-01-05  15.950000\n",
      "2015-01-06  15.740000\n",
      "2015-01-07  15.710000\n",
      "2015-01-08  15.800000\n",
      "...               ...\n",
      "2018-12-24  18.600000\n",
      "2018-12-26  18.400000\n",
      "2018-12-27  18.520000\n",
      "2018-12-28  18.840000\n",
      "2018-12-31  19.090000\n",
      "\n",
      "[1006 rows x 1 columns]\n"
     ]
    }
   ],
   "source": [
    "print(\"Datos sin estandarizar:\\n\\n\",training)\n",
    "#escalamos los datos\n",
    "scaler = StandardScaler()\n",
    "sc_training = scaler.fit_transform(training)"
   ],
   "metadata": {
    "collapsed": false,
    "pycharm": {
     "name": "#%%\n"
    }
   }
  },
  {
   "cell_type": "code",
   "execution_count": 504,
   "outputs": [
    {
     "name": "stdout",
     "output_type": "stream",
     "text": [
      "Secuencia 1:\n",
      " [-0.7911129  -0.83785323 -0.92708559 -0.93983307 -0.90159063]\n",
      "\n",
      "Secuencia 2:\n",
      " [-0.83785323 -0.92708559 -0.93983307 -0.90159063 -0.95258055]\n"
     ]
    }
   ],
   "source": [
    "time_step = 5\n",
    "X_train = []\n",
    "Y_train = []\n",
    "m = len(sc_training)\n",
    "for i in range(time_step,m):\n",
    "    # X: bloques de \"time_step\" datos: 0->time_step, 1->time_step+1, 2->time_step+2, etc\n",
    "    #print(\"i-time_step: \", i-time_step)\n",
    "    #print(\"i:\",i)\n",
    "    X_train.append(sc_training[i-time_step:i,0])\n",
    "    Y_train.append(sc_training[i,0])\n",
    "X_train, Y_train = np.array(X_train), np.array(Y_train)\n",
    "print(\"Secuencia 1:\\n\",X_train[0][:])\n",
    "print(\"\\nSecuencia 2:\\n\",X_train[1][:])"
   ],
   "metadata": {
    "collapsed": false,
    "pycharm": {
     "name": "#%%\n"
    }
   }
  },
  {
   "cell_type": "code",
   "execution_count": 505,
   "outputs": [
    {
     "name": "stdout",
     "output_type": "stream",
     "text": [
      "X_train.shape (1001, 5, 1)\n",
      "X_test.shape (247, 5, 1)\n",
      "\n",
      " [[-0.7911129 ]\n",
      " [-0.83785323]\n",
      " [-0.92708559]\n",
      " [-0.93983307]\n",
      " [-0.90159063]]\n"
     ]
    }
   ],
   "source": [
    "#set de testing normalizamos los datos\n",
    "x_test = testing.values\n",
    "x_test = scaler.transform(x_test)\n",
    "\n",
    "\n",
    "X_test = []\n",
    "for i in range(time_step,len(x_test)):\n",
    "    X_test.append(x_test[i-time_step:i,0])\n",
    "\n",
    "X_test = np.array(X_test)\n",
    "X_test = np.reshape(X_test, (X_test.shape[0],X_test.shape[1],1))\n",
    "\n",
    "X_train = np.reshape(X_train, (X_train.shape[0], X_train.shape[1], 1))\n",
    "\n",
    "print(\"X_train.shape\", X_train.shape)\n",
    "print(\"X_test.shape\", X_test.shape)\n",
    "print(\"\\n\",X_train[0])"
   ],
   "metadata": {
    "collapsed": false,
    "pycharm": {
     "name": "#%%\n"
    }
   }
  },
  {
   "cell_type": "code",
   "execution_count": 506,
   "outputs": [
    {
     "name": "stdout",
     "output_type": "stream",
     "text": [
      "Model: \"sequential_39\"\n",
      "_________________________________________________________________\n",
      "Layer (type)                 Output Shape              Param #   \n",
      "=================================================================\n",
      "lstm_37 (LSTM)               (None, 124)               62496     \n",
      "_________________________________________________________________\n",
      "dense_75 (Dense)             (None, 62)                7750      \n",
      "_________________________________________________________________\n",
      "dense_76 (Dense)             (None, 1)                 63        \n",
      "=================================================================\n",
      "Total params: 70,309\n",
      "Trainable params: 70,309\n",
      "Non-trainable params: 0\n",
      "_________________________________________________________________\n"
     ]
    }
   ],
   "source": [
    "from keras.layers import LSTM\n",
    "\n",
    "dim_entrada = (X_train.shape[1],1)\n",
    "\n",
    "modelo = Sequential()\n",
    "\n",
    "modelo.add(LSTM(units=124, input_shape=dim_entrada))\n",
    "modelo.add(Dense(units=62, activation='sigmoid'))\n",
    "modelo.add(Dense(units=1, activation='relu'))\n",
    "\n",
    "modelo.compile(optimizer='adam', loss='mse')\n",
    "\n",
    "#resumen del modelo\n",
    "modelo.summary()"
   ],
   "metadata": {
    "collapsed": false,
    "pycharm": {
     "name": "#%%\n"
    }
   }
  },
  {
   "cell_type": "code",
   "execution_count": 507,
   "outputs": [
    {
     "data": {
      "text/plain": "<keras.callbacks.History at 0x7f23a2992b50>"
     },
     "execution_count": 507,
     "metadata": {},
     "output_type": "execute_result"
    }
   ],
   "source": [
    "modelo.fit(X_train,Y_train,epochs=32,batch_size=500, verbose = 0)"
   ],
   "metadata": {
    "collapsed": false,
    "pycharm": {
     "name": "#%%\n"
    }
   }
  },
  {
   "cell_type": "code",
   "execution_count": 508,
   "outputs": [],
   "source": [
    "prediccion = modelo.predict(X_test)\n",
    "# aplicamos la normalización inversa de dicha predicción\n",
    "prediccion = scaler.inverse_transform(prediccion)"
   ],
   "metadata": {
    "collapsed": false,
    "pycharm": {
     "name": "#%%\n"
    }
   }
  },
  {
   "cell_type": "code",
   "execution_count": 509,
   "outputs": [
    {
     "data": {
      "text/plain": "<matplotlib.legend.Legend at 0x7f23a21c33d0>"
     },
     "execution_count": 509,
     "metadata": {},
     "output_type": "execute_result"
    },
    {
     "data": {
      "text/plain": "<Figure size 900x600 with 1 Axes>",
      "image/png": "[encoded data removed]"
     },
     "metadata": {
      "needs_background": "light"
     },
     "output_type": "display_data"
    }
   ],
   "source": [
    "#Gráfico\n",
    "fig, ax = plt.subplots(1,1, figsize = (6,4), dpi = 150)\n",
    "\n",
    "plt.plot(training.index, training.values, label = \" Training\")\n",
    "plt.plot(testing.index, testing.values, label = \" Testing\")\n",
    "plt.plot(testing.index[0:len(X_test)], prediccion, label = \"Prediccion\")\n",
    "plt.legend()"
   ],
   "metadata": {
    "collapsed": false,
    "pycharm": {
     "name": "#%%\n"
    }
   }
  }
 ],
 "metadata": {
  "kernelspec": {
   "display_name": "Python 3",
   "language": "python",
   "name": "python3"
  },
  "language_info": {
   "codemirror_mode": {
    "name": "ipython",
    "version": 2
   },
   "file_extension": ".py",
   "mimetype": "text/x-python",
   "name": "python",
   "nbconvert_exporter": "python",
   "pygments_lexer": "ipython2",
   "version": "2.7.6"
  }
 },
 "nbformat": 4,
 "nbformat_minor": 0
}